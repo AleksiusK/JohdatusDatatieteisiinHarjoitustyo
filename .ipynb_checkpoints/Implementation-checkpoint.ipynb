{
  "cells": [
    {
      "cell_type": "code",
      "source": [
        "from requests import ReadTimeout\r\n",
        "from sklearn.linear_model import LogisticRegression\r\n",
        "import matplotlib.pyplot as plt\r\n",
        "import pandas as pd\r\n",
        "import spotipy as spy\r\n",
        "import pickle\r\n"
      ],
      "outputs": [],
      "execution_count": 1,
      "metadata": {
        "gather": {
          "logged": 1649491548745
        }
      }
    },
    {
      "cell_type": "code",
      "source": [
        "with open('secret.txt') as s:\r\n",
        "    client_secret = next(s)\r\n",
        "s.close()\r\n",
        "client_id = '339e9f02e5254f07a945aef3f9471a31'"
      ],
      "outputs": [],
      "execution_count": 2,
      "metadata": {
        "jupyter": {
          "source_hidden": false,
          "outputs_hidden": false
        },
        "nteract": {
          "transient": {
            "deleting": false
          }
        },
        "gather": {
          "logged": 1649491549405
        }
      }
    },
    {
      "cell_type": "code",
      "source": [
        "credentials_manager = spy.oauth2.SpotifyClientCredentials(client_id, client_secret)\r\n",
        "sp = spy.Spotify(client_credentials_manager=credentials_manager)"
      ],
      "outputs": [],
      "execution_count": 3,
      "metadata": {
        "jupyter": {
          "source_hidden": false,
          "outputs_hidden": false
        },
        "nteract": {
          "transient": {
            "deleting": false
          }
        },
        "gather": {
          "logged": 1649491549721
        }
      }
    },
    {
      "cell_type": "code",
      "source": [
        "url = input(\"Enter URL for the playlist you want to inspect: \")\r\n",
        "user = input(\"Enter the username of the playlist's owner: \")\r\n",
        "splitted = url.split(\"/\")\r\n",
        "URI = splitted[len(splitted)-1]\r\n",
        "print(URI)"
      ],
      "outputs": [
        {
          "output_type": "stream",
          "name": "stdout",
          "text": "5VpwYsFvm4Hw5XGiIgxoLa\n"
        }
      ],
      "execution_count": 8,
      "metadata": {
        "jupyter": {
          "source_hidden": false,
          "outputs_hidden": false
        },
        "nteract": {
          "transient": {
            "deleting": false
          }
        },
        "gather": {
          "logged": 1649491637000
        }
      }
    },
    {
      "cell_type": "code",
      "source": [
        "pl_t = sp.user_playlist_tracks(user, URI)\r\n",
        "tmp = pl_t['items']\r\n",
        "ids = []\r\n",
        "while pl_t['next']:\r\n",
        "    pl_t = sp.next(pl_t)\r\n",
        "    tmp.extend(pl_t['items'])\r\n",
        "    for s in tmp:\r\n",
        "        ids.append(s[\"track\"][\"id\"])\r\n",
        "print(ids)"
      ],
      "outputs": [
        {
          "output_type": "stream",
          "name": "stdout",
          "text": "['7lgA34nFXxjqQgyLkPUcLv', '4RYtaqxjDJUOY2GrtkLTFf', '2169IKAivSUUFGcedGASXc', '65Jgif44Tlf9lB1uXll6qp', '0oIGnSelyXxLlQqaNs1dtl', '0YZhP6A6sA0sEnOixfL7rK', '2uDj5Xr9DEsXq7NR3Wtfmw', '2cMTIlktg3M9mXYqCPqw1J', '3E3S5LUXcNnTw26mZ8SVp1', '0QaKr4RHEmOCXpN39bAu0B', '5Y1Wi3UlIx0EFs8uk67P4J', '3JEjxSwF7TQOIER3n9WfNZ', '5tmuKTnfayZkjDlukTz3vT', '0OPyDgTRuIdCJ9B4bYSths', '1B3t5xC2jzTgjDOwawchu8', '3LWDPEXEaLBRGNLbdcbwBR', '5WQQIDU3HRaMyPkob8mpFb', '0SiywuOBRcynK0uKGWdCnn', '1XXimziG1uhM0eDNCZCrUl', '1KixkQVDUHggZMU9dUobgm', '2etHQJxIbV0soyPhelVs9Y', '3rfhI32Il2hVRKDkuGeeen', '7t7StcMUr1cqBZiRgDWwEs', '3Ofmpyhv5UAQ70mENzB277', '6NWdgyVsjp2bJ11PToXCr1', '3YmgsYX80v0EtBZekgcB6w', '2GGMabyHXnJmjY6CXhhB2e', '7ks6AZmFcm3Y6PGGxGSmlB', '0C4ejWmOTMv8vuYj85mf8m', '36knYZNgwftBUhMZOzmtmE', '2hQVEDz4hG8RGmzSPKTDrT', '0gySKxqIOHTVD3YObTsJug', '20McUFi8KCIVdNDLrkTDuZ', '4PVm8e67skz8B8wiJP2kwk', '0gn93i7HJt0calph67R5Wu', '4Hpib09wXgD84w4uwTPnYD', '1BrCg5ZARTc16Y8jg8yZvg', '4flXUmmCKe1GAAvIoptHq7', '5xYC48nOppVemY6U5GRGTb', '5l3CML2OnzfNs5RfVgbcLt', '7EH2enDP1q3upRqctbOz3n', '0O45fw2L5vsWpdsOdXwNAR', '3yt63XnFRTRnkxmnTeCRHe', '6XoFQCeBo7XS7cWzvlPPdw', '5cGkDUUBSkkg0TAjFovvau', '6vFTGqOwipH5PLyE8i1lHj', '7JsVDwOfhQTvrMRJOJzNuv', '4dRfu7exVh3sUekkCtZJlS', '7vFq3RHvJXp7GYnHFAHcEC', '3yGIMsXdsjdRMto5IWYhxY', '6xQjgKUjjKgLDfOibSRyRM', '5JqZ3oqF00jkT81foAFvqg', '7mtxlSJQej3cCBXySgEjlY', '61ZM92T2zaXIVsqncThQzC', '79JBjIq90BrQ8Ws0pUhlzD', '2OYWaYTlWICzZxp3yxHUP4', '7LzouaWGFCy4tkXDOOnEyM', '2XJWjh3lv33PaQOtH212qi', '6jwZWnmUmh4Qz4LzuxWVxm', '0EYIDbETAhEBJFINmswacs', '7JEv9Hj3qJbFqcNqwsVMUh', '3vSn1frPgFcRXrjWOfhMLl', '5fRvePkRGdpn2nKacG7I6d', '6PwbVXIomkvk4YcafiOc6i', '0AH6WMe3OlAlUb5miXt2FQ', '5w9c2J52mkdntKOmRLeM2m', '6eIacmhkE82vZlMDnGS7aP', '1dzQoRqT5ucxXVaAhTcT0J', '4Lvc9SbPc0svm9TEoMgFzB', '11ZulcYY4lowvcQm4oe3VJ', '0JjM9bKm4wrwohMslcm892', '6lz4EdYV6oWYdAADxOleEz', '6u7jPi22kF8CTQ3rb9DHE7', '77kC7i3rcYpSfQg96TXe0W', '7IBG7tXdBiuFdDEEMETXe2', '6ttwP1hRhvbcmFSuU1suaK', '1k2FbKcd051jfxaE0PLZJF', '1vxHn5USrJ5c29vOciLYRR', '17te2wP80lWKpQdOexK7vN', '3cGY1fqKRllxTkVIBOmBBv', '4hK01qQsklh2Cw15f6VQ5I', '4OeDZhsYg6pA0QYlzeD9pQ', '2DsBoPS8okgQLHmNQpRJaM', '2Nc4pBQWU9tyvXrRTyORtJ', '3srU8cVSQAFOD2fJFLm1Qg', '4vfsh1GHqHZtTlkusq9j5E', '1bi9UNJ3i3NeHTwy8sacmj', '0iEah99dxx0a1YOkXD6VDD', '0WSjVLITbxV6kVXndziQDm', '78qd8dvwea0Gosb6Fe6j3k', '73eoKpRypm2f9SEXdKMcec', '6qUSs4FDzZUdAhY6JDIJfa', '1hTC2wVbru5sEyK3AZuF78', '7wtsZ7TZIRfB69YIlwZros', '6Lu31bfICpqfkBjRzI2j8E', '0k2GOhqsrxDTAbFFSdNJjT', '2zScIX7QHzyGDK5nIVElTl', '36R4TFNMSLxBnLUG1lbiA9', '2Jn5Xdma28AYng4zY2K7eA', '1qDOrF2QKs5LiT4nNAtlzu', '0iFuOh7le9rmJVCR1jmgFu', '4rKgbF7EExErRLFEZZnO5q', '66IP8p7WMv8rpBIOi9zYl8', '2Oycxb8QbPkpHTo8ZrmG0B', '2VB2YJfyVKYD3SddOk9KbF', '6tQaEvr7u3NLRGqaIBjb0V', '5TSC8x1GZNEaqtwC8YsVWx', '0EoIMzqnKlmiZnpiozOfQZ', '5U0eLNAaJNeNkrKgByKnkh', '6MjiVEJy1YVuJNFu72OH61', '0bup6XzvVJUL8wKUI0P1AP', '2mwPGcM7yJgKGv87duYxq0', '0IbTukfZdB91gclEXUQZkH', '2lgt7rWlM8JT3kDe9gbbeB', '14iN3o8ptQ8cFVZTEmyQRV', '4BTGcyauPG7s9ECo5Qw90G', '6qBoGwWaCo60MnCjIBanEC', '6GvK6rE2tkOduwnJgJMjcy', '1K8l4jbW6lOurRf4FkEENU', '4gY7zyEfAg6fO41Kd2LvjB', '3nSgBtJdPJLi85pCHjpUep', '73LPDUb1XOZRDFJWbnrSHc', '61V1Gi6wmaRtLHlyIecvT3', '0ZWW9Qt5DCa5igVuX4YCWf', '27ycaQnQAxaPiyeg3nr2aB', '0izOCTLoxMw3riMdNkXF3I', '0lzpsPn4pioESGOfoBONdt', '5hiph9cNr39AY1IrczQsj4', '1L76HxtZkpUx00RiNJ5UCf', '4Oun2ylbjFKMPTiaSbbCih', '7KHixMcZqOwQ1Q2svkO4la', '5WHTFyqSii0lmT9R21abT8', '4i2qxFEVVUi8yOYoxB8TCX', '52b5jFoD1Is2dtAZZS894x', '63aad0ckWuHWeBgib3DNeK', '1DFD5Fotzgn6yYXkYsKiGs', '5zjPsD9ozFh1DlaRltdjN9', '1tCfMm3WulTh8pxyVlQi30', '1paoFVtY4d2qb2EX8SWVWW', '1vTvSRxlE3YBB7fnlwoi1n', '4ycKgmGOtvuJZVPyvBpVVU', '30F5BxQOjeZtWKfSK8YW5K', '597Ma4XVex5FtDbNMkSvtn', '57Cjph8JmULfgv2CfDUysI', '4APifWvGosAbrlK8Gvv0ic', '6vgUhgKdNjmcse3wQVLluI', '6aoscmnlMH8ydXZ1AOOWvF', '60KxJyXQUsX9bhVd8qgDLG', '6dNdRdscMFQz1QU9RFySpw', '2rOxFCeqeRBDSLz1DVURMP', '0hujzXTF2t4hmFDaaC3nh6', '2NTsIySMwtGF5fPl6jIcSn', '1GgRUkWVQpbbmfi1ETKJFR', '7aXtnQUlAvVEKHvmRqS54t', '4LVb1rAYxhnKn0oVTZu6Dp', '4SsfqjdmhglYwqrVYbwJQj', '6KI1ZpZWYAJLvmVhCJz65G', '3qw9rbM22j7TauihIva5Js', '4QCVvLRNP45j83odN8Gzml', '0ByMNEPAPpOR5H69DVrTNy', '3DsjHcLYMExprXJECT4QQP', '2WyRfGeHo97VC5mP1BBSzr', '5ClXLJW6OLZuTLCwhmX9h9', '2GYHyAoLWpkxLVa4oYTVko', '0HPD5WQqrq7wPWR7P7Dw1i', '0Altlm3kLPob56k2qqR4i2', '38lknictgsxIHKBK3Amw0g', '6aktw5B8WX5l1j3hHO9LD9', '0R7YVi7w41Dr9jU5vblAok', '4ccYRZ7WptUbPD3RZ0BhvP', '0ULTrYSHrvfT3wYUqDOmdi', '2MdOhvV5n3iVhrakmQAiKc', '7t7StcMUr1cqBZiRgDWwEs', '6A8B1kJ9ZNHbl2uFPN6Wtm', '6QmvGtapHbSNolhCzfZGXZ', '4VugOAa3fFb1Lq6KHXXF8y', '08GeN2LsFVQQpolgB9XRZR', '3iw6V4LH7yPj1ESORX9RIN', '1uH1Nd8vet2uoZSDFSDwbh', '4NOZ35Dhucr6UlVyLOtktd', '0cVWsZDecQYXWY4j1KjhDg', '4cG7HUWYHBV6R6tHn1gxrl', '1dh93oIZ4KWLOjPr6kWec9', '3BZEcbdtXQSo7OrvKRJ6mb', '32yIEFS62uS5ryhr2Xlooj', '2s5YN9O8Qv25BjQobPHWVZ', '4DMPn1rEujpIJIvjy9HKV8', '1L0rvFTlpoR8rHxdR4lTSN', '7C86DVl6REN8VPeGEMOf9q', '3UB6bgxx6WGrOws9szkOvm', '5QY38we5AE85kkrXUrdLEC', '4QNpBfC0zvjKqPJcyqBy9W', '62zFEHfAYl5kdHYOivj4BC', '7KPr0YxECy4Q1k2F17Sa0Q', '4d2hD63oUGU3s7L66JD0BE', '503NIPNA6wDfOsk6lZKOXi', '4rBvqjf38GjJ5WM2ZqfoID', '5X6IHhRkUJqXxVgolPFOxi', '3v3K7xgKQahAml0BGjdIfY', '24Yi9hE78yPEbZ4kxyoXAI', '7lgA34nFXxjqQgyLkPUcLv', '4RYtaqxjDJUOY2GrtkLTFf', '2169IKAivSUUFGcedGASXc', '65Jgif44Tlf9lB1uXll6qp', '0oIGnSelyXxLlQqaNs1dtl', '0YZhP6A6sA0sEnOixfL7rK', '2uDj5Xr9DEsXq7NR3Wtfmw', '2cMTIlktg3M9mXYqCPqw1J', '3E3S5LUXcNnTw26mZ8SVp1', '0QaKr4RHEmOCXpN39bAu0B', '5Y1Wi3UlIx0EFs8uk67P4J', '3JEjxSwF7TQOIER3n9WfNZ', '5tmuKTnfayZkjDlukTz3vT', '0OPyDgTRuIdCJ9B4bYSths', '1B3t5xC2jzTgjDOwawchu8', '3LWDPEXEaLBRGNLbdcbwBR', '5WQQIDU3HRaMyPkob8mpFb', '0SiywuOBRcynK0uKGWdCnn', '1XXimziG1uhM0eDNCZCrUl', '1KixkQVDUHggZMU9dUobgm', '2etHQJxIbV0soyPhelVs9Y', '3rfhI32Il2hVRKDkuGeeen', '7t7StcMUr1cqBZiRgDWwEs', '3Ofmpyhv5UAQ70mENzB277', '6NWdgyVsjp2bJ11PToXCr1', '3YmgsYX80v0EtBZekgcB6w', '2GGMabyHXnJmjY6CXhhB2e', '7ks6AZmFcm3Y6PGGxGSmlB', '0C4ejWmOTMv8vuYj85mf8m', '36knYZNgwftBUhMZOzmtmE', '2hQVEDz4hG8RGmzSPKTDrT', '0gySKxqIOHTVD3YObTsJug', '20McUFi8KCIVdNDLrkTDuZ', '4PVm8e67skz8B8wiJP2kwk', '0gn93i7HJt0calph67R5Wu', '4Hpib09wXgD84w4uwTPnYD', '1BrCg5ZARTc16Y8jg8yZvg', '4flXUmmCKe1GAAvIoptHq7', '5xYC48nOppVemY6U5GRGTb', '5l3CML2OnzfNs5RfVgbcLt', '7EH2enDP1q3upRqctbOz3n', '0O45fw2L5vsWpdsOdXwNAR', '3yt63XnFRTRnkxmnTeCRHe', '6XoFQCeBo7XS7cWzvlPPdw', '5cGkDUUBSkkg0TAjFovvau', '6vFTGqOwipH5PLyE8i1lHj', '7JsVDwOfhQTvrMRJOJzNuv', '4dRfu7exVh3sUekkCtZJlS', '7vFq3RHvJXp7GYnHFAHcEC', '3yGIMsXdsjdRMto5IWYhxY', '6xQjgKUjjKgLDfOibSRyRM', '5JqZ3oqF00jkT81foAFvqg', '7mtxlSJQej3cCBXySgEjlY', '61ZM92T2zaXIVsqncThQzC', '79JBjIq90BrQ8Ws0pUhlzD', '2OYWaYTlWICzZxp3yxHUP4', '7LzouaWGFCy4tkXDOOnEyM', '2XJWjh3lv33PaQOtH212qi', '6jwZWnmUmh4Qz4LzuxWVxm', '0EYIDbETAhEBJFINmswacs', '7JEv9Hj3qJbFqcNqwsVMUh', '3vSn1frPgFcRXrjWOfhMLl', '5fRvePkRGdpn2nKacG7I6d', '6PwbVXIomkvk4YcafiOc6i', '0AH6WMe3OlAlUb5miXt2FQ', '5w9c2J52mkdntKOmRLeM2m', '6eIacmhkE82vZlMDnGS7aP', '1dzQoRqT5ucxXVaAhTcT0J', '4Lvc9SbPc0svm9TEoMgFzB', '11ZulcYY4lowvcQm4oe3VJ', '0JjM9bKm4wrwohMslcm892', '6lz4EdYV6oWYdAADxOleEz', '6u7jPi22kF8CTQ3rb9DHE7', '77kC7i3rcYpSfQg96TXe0W', '7IBG7tXdBiuFdDEEMETXe2', '6ttwP1hRhvbcmFSuU1suaK', '1k2FbKcd051jfxaE0PLZJF', '1vxHn5USrJ5c29vOciLYRR', '17te2wP80lWKpQdOexK7vN', '3cGY1fqKRllxTkVIBOmBBv', '4hK01qQsklh2Cw15f6VQ5I', '4OeDZhsYg6pA0QYlzeD9pQ', '2DsBoPS8okgQLHmNQpRJaM', '2Nc4pBQWU9tyvXrRTyORtJ', '3srU8cVSQAFOD2fJFLm1Qg', '4vfsh1GHqHZtTlkusq9j5E', '1bi9UNJ3i3NeHTwy8sacmj', '0iEah99dxx0a1YOkXD6VDD', '0WSjVLITbxV6kVXndziQDm', '78qd8dvwea0Gosb6Fe6j3k', '73eoKpRypm2f9SEXdKMcec', '6qUSs4FDzZUdAhY6JDIJfa', '1hTC2wVbru5sEyK3AZuF78', '7wtsZ7TZIRfB69YIlwZros', '6Lu31bfICpqfkBjRzI2j8E', '0k2GOhqsrxDTAbFFSdNJjT', '2zScIX7QHzyGDK5nIVElTl', '36R4TFNMSLxBnLUG1lbiA9', '2Jn5Xdma28AYng4zY2K7eA', '1qDOrF2QKs5LiT4nNAtlzu', '0iFuOh7le9rmJVCR1jmgFu', '4rKgbF7EExErRLFEZZnO5q', '66IP8p7WMv8rpBIOi9zYl8', '2Oycxb8QbPkpHTo8ZrmG0B', '2VB2YJfyVKYD3SddOk9KbF', '6tQaEvr7u3NLRGqaIBjb0V', '5TSC8x1GZNEaqtwC8YsVWx', '0EoIMzqnKlmiZnpiozOfQZ', '5U0eLNAaJNeNkrKgByKnkh', '6MjiVEJy1YVuJNFu72OH61', '0bup6XzvVJUL8wKUI0P1AP', '2mwPGcM7yJgKGv87duYxq0', '0IbTukfZdB91gclEXUQZkH', '2lgt7rWlM8JT3kDe9gbbeB', '14iN3o8ptQ8cFVZTEmyQRV', '4BTGcyauPG7s9ECo5Qw90G', '6qBoGwWaCo60MnCjIBanEC', '6GvK6rE2tkOduwnJgJMjcy', '1K8l4jbW6lOurRf4FkEENU', '4gY7zyEfAg6fO41Kd2LvjB', '3nSgBtJdPJLi85pCHjpUep', '73LPDUb1XOZRDFJWbnrSHc', '61V1Gi6wmaRtLHlyIecvT3', '0ZWW9Qt5DCa5igVuX4YCWf', '27ycaQnQAxaPiyeg3nr2aB', '0izOCTLoxMw3riMdNkXF3I', '0lzpsPn4pioESGOfoBONdt', '5hiph9cNr39AY1IrczQsj4', '1L76HxtZkpUx00RiNJ5UCf', '4Oun2ylbjFKMPTiaSbbCih', '7KHixMcZqOwQ1Q2svkO4la', '5WHTFyqSii0lmT9R21abT8', '4i2qxFEVVUi8yOYoxB8TCX', '52b5jFoD1Is2dtAZZS894x', '63aad0ckWuHWeBgib3DNeK', '1DFD5Fotzgn6yYXkYsKiGs', '5zjPsD9ozFh1DlaRltdjN9', '1tCfMm3WulTh8pxyVlQi30', '1paoFVtY4d2qb2EX8SWVWW', '1vTvSRxlE3YBB7fnlwoi1n', '4ycKgmGOtvuJZVPyvBpVVU', '30F5BxQOjeZtWKfSK8YW5K', '597Ma4XVex5FtDbNMkSvtn', '57Cjph8JmULfgv2CfDUysI', '4APifWvGosAbrlK8Gvv0ic', '6vgUhgKdNjmcse3wQVLluI', '6aoscmnlMH8ydXZ1AOOWvF', '60KxJyXQUsX9bhVd8qgDLG', '6dNdRdscMFQz1QU9RFySpw', '2rOxFCeqeRBDSLz1DVURMP', '0hujzXTF2t4hmFDaaC3nh6', '2NTsIySMwtGF5fPl6jIcSn', '1GgRUkWVQpbbmfi1ETKJFR', '7aXtnQUlAvVEKHvmRqS54t', '4LVb1rAYxhnKn0oVTZu6Dp', '4SsfqjdmhglYwqrVYbwJQj', '6KI1ZpZWYAJLvmVhCJz65G', '3qw9rbM22j7TauihIva5Js', '4QCVvLRNP45j83odN8Gzml', '0ByMNEPAPpOR5H69DVrTNy', '3DsjHcLYMExprXJECT4QQP', '2WyRfGeHo97VC5mP1BBSzr', '5ClXLJW6OLZuTLCwhmX9h9', '2GYHyAoLWpkxLVa4oYTVko', '0HPD5WQqrq7wPWR7P7Dw1i', '0Altlm3kLPob56k2qqR4i2', '38lknictgsxIHKBK3Amw0g', '6aktw5B8WX5l1j3hHO9LD9', '0R7YVi7w41Dr9jU5vblAok', '4ccYRZ7WptUbPD3RZ0BhvP', '0ULTrYSHrvfT3wYUqDOmdi', '2MdOhvV5n3iVhrakmQAiKc', '7t7StcMUr1cqBZiRgDWwEs', '6A8B1kJ9ZNHbl2uFPN6Wtm', '6QmvGtapHbSNolhCzfZGXZ', '4VugOAa3fFb1Lq6KHXXF8y', '08GeN2LsFVQQpolgB9XRZR', '3iw6V4LH7yPj1ESORX9RIN', '1uH1Nd8vet2uoZSDFSDwbh', '4NOZ35Dhucr6UlVyLOtktd', '0cVWsZDecQYXWY4j1KjhDg', '4cG7HUWYHBV6R6tHn1gxrl', '1dh93oIZ4KWLOjPr6kWec9', '3BZEcbdtXQSo7OrvKRJ6mb', '32yIEFS62uS5ryhr2Xlooj', '2s5YN9O8Qv25BjQobPHWVZ', '4DMPn1rEujpIJIvjy9HKV8', '1L0rvFTlpoR8rHxdR4lTSN', '7C86DVl6REN8VPeGEMOf9q', '3UB6bgxx6WGrOws9szkOvm', '5QY38we5AE85kkrXUrdLEC', '4QNpBfC0zvjKqPJcyqBy9W', '62zFEHfAYl5kdHYOivj4BC', '7KPr0YxECy4Q1k2F17Sa0Q', '4d2hD63oUGU3s7L66JD0BE', '503NIPNA6wDfOsk6lZKOXi', '4rBvqjf38GjJ5WM2ZqfoID', '5X6IHhRkUJqXxVgolPFOxi', '3v3K7xgKQahAml0BGjdIfY', '24Yi9hE78yPEbZ4kxyoXAI', '2SPVXK9xjkF3iAmvWySvqL', '1AguHaKOuggrVTebp7cZEI', '5t7rDlqL7Ji3BrpOJFKBCr', '0fljXRHHke69eOwJdzX0bQ', '7sr07mEoub2rJ17zQ3VMgS', '2gbmrsnfYif0tF3Gj5xpyt', '77PIgzFwxUg5F8eqRnccQZ', '4cVEPKl3R48L5NhT4PRhij', '0TgjaTx01zz00sChUgHiTx', '6rbELcE12mocI0L0VGJYjk', '5br1sln14ZjPdRUAxxOTwd', '4aIdlx4MDx0z0qGLNotRAM', '0Fr0Y0IQNWPYziFcqqkEc9', '6dzg3bPEKKarOBUEm6USep', '7AsZBYnkr557jqhm57PbpJ', '2tftivjRsvKs0jFH9h3Ti8', '3soOPBuMK8YMdWnV7xpEyf', '4h8VwCb1MTGoLKueQ1WgbD', '4eu1eq7uniQmblehyOB8Bf', '4d3yjwnVVZewZpNTGV34zG', '5UzPmB3EnktKPpILh42kfZ', '0WCiI0ddWiu5F2kSHgfw5S', '5RzFJd6W40SDTyZkX6xx45', '5ID7vGQn7i9SFCHqXwDWuE', '2iblMMIgSznA464mNov7A8', '4GkBJSSHZH59LTVeIKDQgZ', '3H1AVr1EZqacjtG0btvXML', '6f3Slt0GbA2bPZlz0aIFXN', '5YaskwnGDZFDRipaqzbwQx', '2pPO9YecZimmuVQfIzfV6U', '5PjdY0CKGZdEuoNab3yDmX', '2duqt4cyVkbMvgf8PW7U2f', '1gAoFkCHYUTac2uZbcxYnY', '3uksXbaCYVWXLCZ2BYVgYY', '7BHifng5YFDsFFwLviBgB5', '0xKwspALAVMED8bZhWNNW4', '2Tk5B1h58lJRsrivGg1jaE', '5tY2k2BhO8vyAMkzXm6yNc', '01FS9t6IaIpc6P7hFtc6gY', '6wPsHct4yJfplE3nA9qvac', '16Cs9KsHzgunxaEfGrXysG', '1h9jDmlLxjR9KPYWr2mnGV', '4CqZ6L1ZZnnhV8K7OeocjU', '3M89zvwwb1jtDUDKYNsdiA', '6PtAic2Ngv3htJo0nfsVT7', '3u7iK6BhDzHxoc6BJ6br2m', '6DsPM0HMAXN5x4pzBR6bbo', '4rPkN1FMzQyFNP9cLUGIIB', '3Vi5XqYrmQgOYBajMWSvCi', '5lAnYvAIkSDNXqfo7DyFUm', '6D0y73HlVdSG0sWm5F6V5o', '0QIYINh2AwmOmdu8CRYvlw', '7F25roCtYi55JouckaayPC', '6VRhkROS2SZHGlp0pxndbJ', '6zX1edWck5DxIBWQMOUXO5', '2xjGi2KijUILDky1wRMEkp', '3EfMGeYXw69Saa14torWpK', '4rQuuWoR8HNJMQNoxd6ZKn', '4356Typ82hUiFAynbLYbPn', '4nwiW5Bk0ujXEGVU6wKbAg', '0TvvRl13syy2Lbs8RLRMtc', '26spalP6x2gUAab8rwB8dQ', '2USlegnFJLrVLpoVfPimKB', '03UrZgTINDqvnUMbbIMhql', '5ID7vGQn7i9SFCHqXwDWuE', '7hU3IHwjX150XLoTVmjD0q', '6tYYEhNoXlPfjgkMmFpd5k', '01XFgRZfZI7oBagNf1Loml', '3eJH2nAjvNXdmPfBkALiPZ', '10hfvDwUbuG9lEakB3SChD', '1EQFOouqdKYdpbNoOHRVO2', '6KimwmJuPvXwuc5ribtUkf', '3lFrFQcZWPLa8WEG7xoc4b', '0zO8ctW0UiuOefR87OeJOZ', '18asYwWugKjjsihZ0YvRxO', '6nw6HDH049R7j7JArouHn3', '5oScu2s1RNMmXc5GoihMSC', '5EYdTPdJD74r9EVZBztqGG', '4uiqe7XN1Om1QqyIwrhNZz', '09ISyLOPeuno7kKlzdbZuq', '6B3iS1hZQDeiTjvISUz9AA', '6gXI1mXOO1N39k9x3uNy9B', '08EMclZsu3ZwuQxlVcsAXI', '6IbnUaczZBT34DhaD6S18F', '6Dy1jexKYriXAVG6evyUTJ', '5MhsZlmKJG6X5kTHkdwC4B', '4sYFG8Rz3TDYucZgGbtqSY', '4hngQBMVv6VPYTXQcySo9f', '5SXjrZQo82PskJa8UTFpJV', '6T689Jvh5KrSXyaPtUWZtQ', '7jk7gqyEonmVVYahZN5zhW', '4fixebDZAVToLbUCuEloa2', '223VlHsryk8Vt7V72aG7u0', '5iyZwawawLjHYpX4MxUKVF', '2QCcZhDSPviJxsqKwx3Ndl', '07Qtx5pK9B6n0UB1cyKTgE', '3RGfeMtWWEs1sJI2NWY1BV', '2hdy9Wt9qp7M7d0U3ossu2', '2tPEV1kekqG1XPyYTVjeNM', '1PAYgOjp1c9rrZ2kVQg2vN', '7lgA34nFXxjqQgyLkPUcLv', '4RYtaqxjDJUOY2GrtkLTFf', '2169IKAivSUUFGcedGASXc', '65Jgif44Tlf9lB1uXll6qp', '0oIGnSelyXxLlQqaNs1dtl', '0YZhP6A6sA0sEnOixfL7rK', '2uDj5Xr9DEsXq7NR3Wtfmw', '2cMTIlktg3M9mXYqCPqw1J', '3E3S5LUXcNnTw26mZ8SVp1', '0QaKr4RHEmOCXpN39bAu0B', '5Y1Wi3UlIx0EFs8uk67P4J', '3JEjxSwF7TQOIER3n9WfNZ', '5tmuKTnfayZkjDlukTz3vT', '0OPyDgTRuIdCJ9B4bYSths', '1B3t5xC2jzTgjDOwawchu8', '3LWDPEXEaLBRGNLbdcbwBR', '5WQQIDU3HRaMyPkob8mpFb', '0SiywuOBRcynK0uKGWdCnn', '1XXimziG1uhM0eDNCZCrUl', '1KixkQVDUHggZMU9dUobgm', '2etHQJxIbV0soyPhelVs9Y', '3rfhI32Il2hVRKDkuGeeen', '7t7StcMUr1cqBZiRgDWwEs', '3Ofmpyhv5UAQ70mENzB277', '6NWdgyVsjp2bJ11PToXCr1', '3YmgsYX80v0EtBZekgcB6w', '2GGMabyHXnJmjY6CXhhB2e', '7ks6AZmFcm3Y6PGGxGSmlB', '0C4ejWmOTMv8vuYj85mf8m', '36knYZNgwftBUhMZOzmtmE', '2hQVEDz4hG8RGmzSPKTDrT', '0gySKxqIOHTVD3YObTsJug', '20McUFi8KCIVdNDLrkTDuZ', '4PVm8e67skz8B8wiJP2kwk', '0gn93i7HJt0calph67R5Wu', '4Hpib09wXgD84w4uwTPnYD', '1BrCg5ZARTc16Y8jg8yZvg', '4flXUmmCKe1GAAvIoptHq7', '5xYC48nOppVemY6U5GRGTb', '5l3CML2OnzfNs5RfVgbcLt', '7EH2enDP1q3upRqctbOz3n', '0O45fw2L5vsWpdsOdXwNAR', '3yt63XnFRTRnkxmnTeCRHe', '6XoFQCeBo7XS7cWzvlPPdw', '5cGkDUUBSkkg0TAjFovvau', '6vFTGqOwipH5PLyE8i1lHj', '7JsVDwOfhQTvrMRJOJzNuv', '4dRfu7exVh3sUekkCtZJlS', '7vFq3RHvJXp7GYnHFAHcEC', '3yGIMsXdsjdRMto5IWYhxY', '6xQjgKUjjKgLDfOibSRyRM', '5JqZ3oqF00jkT81foAFvqg', '7mtxlSJQej3cCBXySgEjlY', '61ZM92T2zaXIVsqncThQzC', '79JBjIq90BrQ8Ws0pUhlzD', '2OYWaYTlWICzZxp3yxHUP4', '7LzouaWGFCy4tkXDOOnEyM', '2XJWjh3lv33PaQOtH212qi', '6jwZWnmUmh4Qz4LzuxWVxm', '0EYIDbETAhEBJFINmswacs', '7JEv9Hj3qJbFqcNqwsVMUh', '3vSn1frPgFcRXrjWOfhMLl', '5fRvePkRGdpn2nKacG7I6d', '6PwbVXIomkvk4YcafiOc6i', '0AH6WMe3OlAlUb5miXt2FQ', '5w9c2J52mkdntKOmRLeM2m', '6eIacmhkE82vZlMDnGS7aP', '1dzQoRqT5ucxXVaAhTcT0J', '4Lvc9SbPc0svm9TEoMgFzB', '11ZulcYY4lowvcQm4oe3VJ', '0JjM9bKm4wrwohMslcm892', '6lz4EdYV6oWYdAADxOleEz', '6u7jPi22kF8CTQ3rb9DHE7', '77kC7i3rcYpSfQg96TXe0W', '7IBG7tXdBiuFdDEEMETXe2', '6ttwP1hRhvbcmFSuU1suaK', '1k2FbKcd051jfxaE0PLZJF', '1vxHn5USrJ5c29vOciLYRR', '17te2wP80lWKpQdOexK7vN', '3cGY1fqKRllxTkVIBOmBBv', '4hK01qQsklh2Cw15f6VQ5I', '4OeDZhsYg6pA0QYlzeD9pQ', '2DsBoPS8okgQLHmNQpRJaM', '2Nc4pBQWU9tyvXrRTyORtJ', '3srU8cVSQAFOD2fJFLm1Qg', '4vfsh1GHqHZtTlkusq9j5E', '1bi9UNJ3i3NeHTwy8sacmj', '0iEah99dxx0a1YOkXD6VDD', '0WSjVLITbxV6kVXndziQDm', '78qd8dvwea0Gosb6Fe6j3k', '73eoKpRypm2f9SEXdKMcec', '6qUSs4FDzZUdAhY6JDIJfa', '1hTC2wVbru5sEyK3AZuF78', '7wtsZ7TZIRfB69YIlwZros', '6Lu31bfICpqfkBjRzI2j8E', '0k2GOhqsrxDTAbFFSdNJjT', '2zScIX7QHzyGDK5nIVElTl', '36R4TFNMSLxBnLUG1lbiA9', '2Jn5Xdma28AYng4zY2K7eA', '1qDOrF2QKs5LiT4nNAtlzu', '0iFuOh7le9rmJVCR1jmgFu', '4rKgbF7EExErRLFEZZnO5q', '66IP8p7WMv8rpBIOi9zYl8', '2Oycxb8QbPkpHTo8ZrmG0B', '2VB2YJfyVKYD3SddOk9KbF', '6tQaEvr7u3NLRGqaIBjb0V', '5TSC8x1GZNEaqtwC8YsVWx', '0EoIMzqnKlmiZnpiozOfQZ', '5U0eLNAaJNeNkrKgByKnkh', '6MjiVEJy1YVuJNFu72OH61', '0bup6XzvVJUL8wKUI0P1AP', '2mwPGcM7yJgKGv87duYxq0', '0IbTukfZdB91gclEXUQZkH', '2lgt7rWlM8JT3kDe9gbbeB', '14iN3o8ptQ8cFVZTEmyQRV', '4BTGcyauPG7s9ECo5Qw90G', '6qBoGwWaCo60MnCjIBanEC', '6GvK6rE2tkOduwnJgJMjcy', '1K8l4jbW6lOurRf4FkEENU', '4gY7zyEfAg6fO41Kd2LvjB', '3nSgBtJdPJLi85pCHjpUep', '73LPDUb1XOZRDFJWbnrSHc', '61V1Gi6wmaRtLHlyIecvT3', '0ZWW9Qt5DCa5igVuX4YCWf', '27ycaQnQAxaPiyeg3nr2aB', '0izOCTLoxMw3riMdNkXF3I', '0lzpsPn4pioESGOfoBONdt', '5hiph9cNr39AY1IrczQsj4', '1L76HxtZkpUx00RiNJ5UCf', '4Oun2ylbjFKMPTiaSbbCih', '7KHixMcZqOwQ1Q2svkO4la', '5WHTFyqSii0lmT9R21abT8', '4i2qxFEVVUi8yOYoxB8TCX', '52b5jFoD1Is2dtAZZS894x', '63aad0ckWuHWeBgib3DNeK', '1DFD5Fotzgn6yYXkYsKiGs', '5zjPsD9ozFh1DlaRltdjN9', '1tCfMm3WulTh8pxyVlQi30', '1paoFVtY4d2qb2EX8SWVWW', '1vTvSRxlE3YBB7fnlwoi1n', '4ycKgmGOtvuJZVPyvBpVVU', '30F5BxQOjeZtWKfSK8YW5K', '597Ma4XVex5FtDbNMkSvtn', '57Cjph8JmULfgv2CfDUysI', '4APifWvGosAbrlK8Gvv0ic', '6vgUhgKdNjmcse3wQVLluI', '6aoscmnlMH8ydXZ1AOOWvF', '60KxJyXQUsX9bhVd8qgDLG', '6dNdRdscMFQz1QU9RFySpw', '2rOxFCeqeRBDSLz1DVURMP', '0hujzXTF2t4hmFDaaC3nh6', '2NTsIySMwtGF5fPl6jIcSn', '1GgRUkWVQpbbmfi1ETKJFR', '7aXtnQUlAvVEKHvmRqS54t', '4LVb1rAYxhnKn0oVTZu6Dp', '4SsfqjdmhglYwqrVYbwJQj', '6KI1ZpZWYAJLvmVhCJz65G', '3qw9rbM22j7TauihIva5Js', '4QCVvLRNP45j83odN8Gzml', '0ByMNEPAPpOR5H69DVrTNy', '3DsjHcLYMExprXJECT4QQP', '2WyRfGeHo97VC5mP1BBSzr', '5ClXLJW6OLZuTLCwhmX9h9', '2GYHyAoLWpkxLVa4oYTVko', '0HPD5WQqrq7wPWR7P7Dw1i', '0Altlm3kLPob56k2qqR4i2', '38lknictgsxIHKBK3Amw0g', '6aktw5B8WX5l1j3hHO9LD9', '0R7YVi7w41Dr9jU5vblAok', '4ccYRZ7WptUbPD3RZ0BhvP', '0ULTrYSHrvfT3wYUqDOmdi', '2MdOhvV5n3iVhrakmQAiKc', '7t7StcMUr1cqBZiRgDWwEs', '6A8B1kJ9ZNHbl2uFPN6Wtm', '6QmvGtapHbSNolhCzfZGXZ', '4VugOAa3fFb1Lq6KHXXF8y', '08GeN2LsFVQQpolgB9XRZR', '3iw6V4LH7yPj1ESORX9RIN', '1uH1Nd8vet2uoZSDFSDwbh', '4NOZ35Dhucr6UlVyLOtktd', '0cVWsZDecQYXWY4j1KjhDg', '4cG7HUWYHBV6R6tHn1gxrl', '1dh93oIZ4KWLOjPr6kWec9', '3BZEcbdtXQSo7OrvKRJ6mb', '32yIEFS62uS5ryhr2Xlooj', '2s5YN9O8Qv25BjQobPHWVZ', '4DMPn1rEujpIJIvjy9HKV8', '1L0rvFTlpoR8rHxdR4lTSN', '7C86DVl6REN8VPeGEMOf9q', '3UB6bgxx6WGrOws9szkOvm', '5QY38we5AE85kkrXUrdLEC', '4QNpBfC0zvjKqPJcyqBy9W', '62zFEHfAYl5kdHYOivj4BC', '7KPr0YxECy4Q1k2F17Sa0Q', '4d2hD63oUGU3s7L66JD0BE', '503NIPNA6wDfOsk6lZKOXi', '4rBvqjf38GjJ5WM2ZqfoID', '5X6IHhRkUJqXxVgolPFOxi', '3v3K7xgKQahAml0BGjdIfY', '24Yi9hE78yPEbZ4kxyoXAI', '2SPVXK9xjkF3iAmvWySvqL', '1AguHaKOuggrVTebp7cZEI', '5t7rDlqL7Ji3BrpOJFKBCr', '0fljXRHHke69eOwJdzX0bQ', '7sr07mEoub2rJ17zQ3VMgS', '2gbmrsnfYif0tF3Gj5xpyt', '77PIgzFwxUg5F8eqRnccQZ', '4cVEPKl3R48L5NhT4PRhij', '0TgjaTx01zz00sChUgHiTx', '6rbELcE12mocI0L0VGJYjk', '5br1sln14ZjPdRUAxxOTwd', '4aIdlx4MDx0z0qGLNotRAM', '0Fr0Y0IQNWPYziFcqqkEc9', '6dzg3bPEKKarOBUEm6USep', '7AsZBYnkr557jqhm57PbpJ', '2tftivjRsvKs0jFH9h3Ti8', '3soOPBuMK8YMdWnV7xpEyf', '4h8VwCb1MTGoLKueQ1WgbD', '4eu1eq7uniQmblehyOB8Bf', '4d3yjwnVVZewZpNTGV34zG', '5UzPmB3EnktKPpILh42kfZ', '0WCiI0ddWiu5F2kSHgfw5S', '5RzFJd6W40SDTyZkX6xx45', '5ID7vGQn7i9SFCHqXwDWuE', '2iblMMIgSznA464mNov7A8', '4GkBJSSHZH59LTVeIKDQgZ', '3H1AVr1EZqacjtG0btvXML', '6f3Slt0GbA2bPZlz0aIFXN', '5YaskwnGDZFDRipaqzbwQx', '2pPO9YecZimmuVQfIzfV6U', '5PjdY0CKGZdEuoNab3yDmX', '2duqt4cyVkbMvgf8PW7U2f', '1gAoFkCHYUTac2uZbcxYnY', '3uksXbaCYVWXLCZ2BYVgYY', '7BHifng5YFDsFFwLviBgB5', '0xKwspALAVMED8bZhWNNW4', '2Tk5B1h58lJRsrivGg1jaE', '5tY2k2BhO8vyAMkzXm6yNc', '01FS9t6IaIpc6P7hFtc6gY', '6wPsHct4yJfplE3nA9qvac', '16Cs9KsHzgunxaEfGrXysG', '1h9jDmlLxjR9KPYWr2mnGV', '4CqZ6L1ZZnnhV8K7OeocjU', '3M89zvwwb1jtDUDKYNsdiA', '6PtAic2Ngv3htJo0nfsVT7', '3u7iK6BhDzHxoc6BJ6br2m', '6DsPM0HMAXN5x4pzBR6bbo', '4rPkN1FMzQyFNP9cLUGIIB', '3Vi5XqYrmQgOYBajMWSvCi', '5lAnYvAIkSDNXqfo7DyFUm', '6D0y73HlVdSG0sWm5F6V5o', '0QIYINh2AwmOmdu8CRYvlw', '7F25roCtYi55JouckaayPC', '6VRhkROS2SZHGlp0pxndbJ', '6zX1edWck5DxIBWQMOUXO5', '2xjGi2KijUILDky1wRMEkp', '3EfMGeYXw69Saa14torWpK', '4rQuuWoR8HNJMQNoxd6ZKn', '4356Typ82hUiFAynbLYbPn', '4nwiW5Bk0ujXEGVU6wKbAg', '0TvvRl13syy2Lbs8RLRMtc', '26spalP6x2gUAab8rwB8dQ', '2USlegnFJLrVLpoVfPimKB', '03UrZgTINDqvnUMbbIMhql', '5ID7vGQn7i9SFCHqXwDWuE', '7hU3IHwjX150XLoTVmjD0q', '6tYYEhNoXlPfjgkMmFpd5k', '01XFgRZfZI7oBagNf1Loml', '3eJH2nAjvNXdmPfBkALiPZ', '10hfvDwUbuG9lEakB3SChD', '1EQFOouqdKYdpbNoOHRVO2', '6KimwmJuPvXwuc5ribtUkf', '3lFrFQcZWPLa8WEG7xoc4b', '0zO8ctW0UiuOefR87OeJOZ', '18asYwWugKjjsihZ0YvRxO', '6nw6HDH049R7j7JArouHn3', '5oScu2s1RNMmXc5GoihMSC', '5EYdTPdJD74r9EVZBztqGG', '4uiqe7XN1Om1QqyIwrhNZz', '09ISyLOPeuno7kKlzdbZuq', '6B3iS1hZQDeiTjvISUz9AA', '6gXI1mXOO1N39k9x3uNy9B', '08EMclZsu3ZwuQxlVcsAXI', '6IbnUaczZBT34DhaD6S18F', '6Dy1jexKYriXAVG6evyUTJ', '5MhsZlmKJG6X5kTHkdwC4B', '4sYFG8Rz3TDYucZgGbtqSY', '4hngQBMVv6VPYTXQcySo9f', '5SXjrZQo82PskJa8UTFpJV', '6T689Jvh5KrSXyaPtUWZtQ', '7jk7gqyEonmVVYahZN5zhW', '4fixebDZAVToLbUCuEloa2', '223VlHsryk8Vt7V72aG7u0', '5iyZwawawLjHYpX4MxUKVF', '2QCcZhDSPviJxsqKwx3Ndl', '07Qtx5pK9B6n0UB1cyKTgE', '3RGfeMtWWEs1sJI2NWY1BV', '2hdy9Wt9qp7M7d0U3ossu2', '2tPEV1kekqG1XPyYTVjeNM', '1PAYgOjp1c9rrZ2kVQg2vN', '5ka2ajep9OAvU5Sgduhiex', '6bhMtVgwLNljlprOizUdy7', '4F7A0DXBrmUAkp32uenhZt', '2565OQ20D2CM4fwVkRjYcI', '5fwSHlTEWpluwOM0Sxnh5k', '7hmigcK9DkLjoXo4MzWQLs', '1HHeOs6zRdF8Ck58easiAY', '4kgsK0fftHtg9gZOzkU5T2', '5ZnxGXgVnjsjduuqvGaPA0', '3JTjLyrnevl9ASw3ayGO2P', '6SIQWeDWu21tUq3KoI1g36', '5BsRZqHI8oLMc1YKsHtauE', '6HnMViOtSLFKr7KI8846Ek', '6jEZLz3YpnEBRpVkv35AmP', '6ZZr5ew0DvA6xda9T5owOU', '0xfMlIW8lS40qvpsUw1l0X', '3uUuGVFu1V7jTQL60S1r8z', '2bLqfJjuC5syrsgDsZfGmn', '6LnWNqUKhiBgQomH7vWeBX', '0laYHRpNTS6i8FXdupHkJ4', '7COfe3P7KgfwDwIRB8LIDw', '2EBCVPNAG46nbgs6jXPGvv', '1r9xUipOqoNwggBpENDsvJ', '55qPuI6NekVyNPM6kh5DN4', '3MNT6f3O8kyyJmi3iOXoLY', '0lQ2obtzmAsJu9xk3D6FqH', '1X1xBGvVB1ri3U7CYFAY1Q', '7ElF5zxOwYP4qVSWVvse3W', '0fGh0trRN1xz3s41r7V5ce', '0oCfAmUgts2Lwf4bd7KvdL', '4I50GQ3rLcdlb8iqLlLmxU', '6j18xkw5Mbr7ultdA0Au8J', '3VAaHlMkxqBqUrI4LygScJ', '19OJJw3lbZT8mKjJzTvS11', '3RlvIvpWVeXdaV7GfaHNJY', '3pYDZTJM2tVBUhIRifWVzI', '1V6gIisPpYqgFeWbMLI0bA', '5kcE7pp02ezLZaUbbMv3Iq', '5Cqd96h4G16XV4Fx2VuTn9', '3b8VSGdio0HRI3I4IIDxjR', '2N2vT7prULYdnOeqA0XBDy', '3Rdz3JsgglGWk4GW0J9tlz', '0cQ4rC6JjeCwBIKXLV9VVY', '5vwnGfnh0zrjbKKRNFiSMg', '4w13LsM06KqCN7VV8xCcXN', '5lReBk90ZP789ifKYOty8z', '66OKFMiTO5ZkbkY8jH8iJ0', '5Zz1wY7EtsQSgJWUKSsRpR', '5l6IAWG8RTWE0AHK04RYRi', '5tWk5AmzccMb4g2ktpjJNL', '6xylvfOdWK0NydJtwJpie8', '48yzgKh8X4KZFusUsH6ZPN', '37hL5OeZOogmPRKPnpypxU', '6HuIDr0u7hgluwYGgzrVFW', '1p5jgCAGFDBIBs6ZbWIMvA', '7boHh6qfpgZIxJQhLY2gZZ', '2sEk5R8ErGIFxbZ7rX6S2S', '3nMb7ToWIxYvmaIG20z6ux', '0eH2eHURaXUP15D8gQlfjx', '4sOX1nhpKwFWPvoMMExi3q', '27rdGxbavYJeBphck5MZAF', '50TYU9eZmgHwUeDRCTquii', '0iVkWge9ytV4Scgy2hQ2za', '1dt220OBbkTsYz1NLVKIaw', '2dWNKXTs5z7Iu1g0kYh4Xe', '2jsmSLoX8y0h6k4YzDCFH1', '6xIu4wz5ihfzX5h7D8lTYr', '4MVkcj2IShjVktEcNKwxSr', '0R97k5AJy1udJI6mGV82FJ', '6DQSu0S1pYmtVxYFYJD2D6', '3BABTkGs0AIECWbwswLegi', '5YYQxvTeF8rSOv2wnazgpw', '1tzYjNuVDJ4vHtoQxJ6Jx2', '5OYUtKjALXnNjXRwTVStCK', '6gqmeX5tg8pDHJN2n4Ha3d', '28bSOChAMwPQE9dxBmhAGA', '55qLZsMb2W1OHkAwQnSJ2x', '21ZbAyDEFfL67DiF14CAV6', '4cR4gpeLWhFgRO780LMVKe', '0KsB4TwgATg88aXCMBoO3Y', '1yAVnDXvfUb1UnLtnBjttw', '5gflgO9EPbIBf16n5TKnQS', '2gam98EZKrF9XuOkU13ApN', '7xRfNTW18gIo14hSwR3zOf', '4S8d14HvHb70ImctNgVzQQ', '0HIj0uo7zaFIpkzUIkDlmL', '2VOomzT6VavJOGBeySqaMc', '5cCAZS9VhLGEDV4NCfieeg', '6hyAHSZHku6qq8FKolMUdI', '1ZKNpjwhaCZmcGGvLqQi9k', '4NhDYoQTYCdWHTvlbGVgwo', '5DdKP76X7MVgbnIeWNqOx3', '4sFDPk9PwpHWDcXN8rY2oA', '2Ynd1BuOdfrGFU1HgW5fXJ', '6aHVPCIzIovTCYyOEvJu7K', '5kKtS4tchKBOjLHY0GaSvK', '3ff4lPdQZfMJ79xn5JM64K', '6Zo3wgDE076K2AuiGZF3CS', '5YUGYQP1stkhjWIxmLvcgf', '4ttjtLeCx3rwltZR3w7gWV', '7lgA34nFXxjqQgyLkPUcLv', '4RYtaqxjDJUOY2GrtkLTFf', '2169IKAivSUUFGcedGASXc', '65Jgif44Tlf9lB1uXll6qp', '0oIGnSelyXxLlQqaNs1dtl', '0YZhP6A6sA0sEnOixfL7rK', '2uDj5Xr9DEsXq7NR3Wtfmw', '2cMTIlktg3M9mXYqCPqw1J', '3E3S5LUXcNnTw26mZ8SVp1', '0QaKr4RHEmOCXpN39bAu0B', '5Y1Wi3UlIx0EFs8uk67P4J', '3JEjxSwF7TQOIER3n9WfNZ', '5tmuKTnfayZkjDlukTz3vT', '0OPyDgTRuIdCJ9B4bYSths', '1B3t5xC2jzTgjDOwawchu8', '3LWDPEXEaLBRGNLbdcbwBR', '5WQQIDU3HRaMyPkob8mpFb', '0SiywuOBRcynK0uKGWdCnn', '1XXimziG1uhM0eDNCZCrUl', '1KixkQVDUHggZMU9dUobgm', '2etHQJxIbV0soyPhelVs9Y', '3rfhI32Il2hVRKDkuGeeen', '7t7StcMUr1cqBZiRgDWwEs', '3Ofmpyhv5UAQ70mENzB277', '6NWdgyVsjp2bJ11PToXCr1', '3YmgsYX80v0EtBZekgcB6w', '2GGMabyHXnJmjY6CXhhB2e', '7ks6AZmFcm3Y6PGGxGSmlB', '0C4ejWmOTMv8vuYj85mf8m', '36knYZNgwftBUhMZOzmtmE', '2hQVEDz4hG8RGmzSPKTDrT', '0gySKxqIOHTVD3YObTsJug', '20McUFi8KCIVdNDLrkTDuZ', '4PVm8e67skz8B8wiJP2kwk', '0gn93i7HJt0calph67R5Wu', '4Hpib09wXgD84w4uwTPnYD', '1BrCg5ZARTc16Y8jg8yZvg', '4flXUmmCKe1GAAvIoptHq7', '5xYC48nOppVemY6U5GRGTb', '5l3CML2OnzfNs5RfVgbcLt', '7EH2enDP1q3upRqctbOz3n', '0O45fw2L5vsWpdsOdXwNAR', '3yt63XnFRTRnkxmnTeCRHe', '6XoFQCeBo7XS7cWzvlPPdw', '5cGkDUUBSkkg0TAjFovvau', '6vFTGqOwipH5PLyE8i1lHj', '7JsVDwOfhQTvrMRJOJzNuv', '4dRfu7exVh3sUekkCtZJlS', '7vFq3RHvJXp7GYnHFAHcEC', '3yGIMsXdsjdRMto5IWYhxY', '6xQjgKUjjKgLDfOibSRyRM', '5JqZ3oqF00jkT81foAFvqg', '7mtxlSJQej3cCBXySgEjlY', '61ZM92T2zaXIVsqncThQzC', '79JBjIq90BrQ8Ws0pUhlzD', '2OYWaYTlWICzZxp3yxHUP4', '7LzouaWGFCy4tkXDOOnEyM', '2XJWjh3lv33PaQOtH212qi', '6jwZWnmUmh4Qz4LzuxWVxm', '0EYIDbETAhEBJFINmswacs', '7JEv9Hj3qJbFqcNqwsVMUh', '3vSn1frPgFcRXrjWOfhMLl', '5fRvePkRGdpn2nKacG7I6d', '6PwbVXIomkvk4YcafiOc6i', '0AH6WMe3OlAlUb5miXt2FQ', '5w9c2J52mkdntKOmRLeM2m', '6eIacmhkE82vZlMDnGS7aP', '1dzQoRqT5ucxXVaAhTcT0J', '4Lvc9SbPc0svm9TEoMgFzB', '11ZulcYY4lowvcQm4oe3VJ', '0JjM9bKm4wrwohMslcm892', '6lz4EdYV6oWYdAADxOleEz', '6u7jPi22kF8CTQ3rb9DHE7', '77kC7i3rcYpSfQg96TXe0W', '7IBG7tXdBiuFdDEEMETXe2', '6ttwP1hRhvbcmFSuU1suaK', '1k2FbKcd051jfxaE0PLZJF', '1vxHn5USrJ5c29vOciLYRR', '17te2wP80lWKpQdOexK7vN', '3cGY1fqKRllxTkVIBOmBBv', '4hK01qQsklh2Cw15f6VQ5I', '4OeDZhsYg6pA0QYlzeD9pQ', '2DsBoPS8okgQLHmNQpRJaM', '2Nc4pBQWU9tyvXrRTyORtJ', '3srU8cVSQAFOD2fJFLm1Qg', '4vfsh1GHqHZtTlkusq9j5E', '1bi9UNJ3i3NeHTwy8sacmj', '0iEah99dxx0a1YOkXD6VDD', '0WSjVLITbxV6kVXndziQDm', '78qd8dvwea0Gosb6Fe6j3k', '73eoKpRypm2f9SEXdKMcec', '6qUSs4FDzZUdAhY6JDIJfa', '1hTC2wVbru5sEyK3AZuF78', '7wtsZ7TZIRfB69YIlwZros', '6Lu31bfICpqfkBjRzI2j8E', '0k2GOhqsrxDTAbFFSdNJjT', '2zScIX7QHzyGDK5nIVElTl', '36R4TFNMSLxBnLUG1lbiA9', '2Jn5Xdma28AYng4zY2K7eA', '1qDOrF2QKs5LiT4nNAtlzu', '0iFuOh7le9rmJVCR1jmgFu', '4rKgbF7EExErRLFEZZnO5q', '66IP8p7WMv8rpBIOi9zYl8', '2Oycxb8QbPkpHTo8ZrmG0B', '2VB2YJfyVKYD3SddOk9KbF', '6tQaEvr7u3NLRGqaIBjb0V', '5TSC8x1GZNEaqtwC8YsVWx', '0EoIMzqnKlmiZnpiozOfQZ', '5U0eLNAaJNeNkrKgByKnkh', '6MjiVEJy1YVuJNFu72OH61', '0bup6XzvVJUL8wKUI0P1AP', '2mwPGcM7yJgKGv87duYxq0', '0IbTukfZdB91gclEXUQZkH', '2lgt7rWlM8JT3kDe9gbbeB', '14iN3o8ptQ8cFVZTEmyQRV', '4BTGcyauPG7s9ECo5Qw90G', '6qBoGwWaCo60MnCjIBanEC', '6GvK6rE2tkOduwnJgJMjcy', '1K8l4jbW6lOurRf4FkEENU', '4gY7zyEfAg6fO41Kd2LvjB', '3nSgBtJdPJLi85pCHjpUep', '73LPDUb1XOZRDFJWbnrSHc', '61V1Gi6wmaRtLHlyIecvT3', '0ZWW9Qt5DCa5igVuX4YCWf', '27ycaQnQAxaPiyeg3nr2aB', '0izOCTLoxMw3riMdNkXF3I', '0lzpsPn4pioESGOfoBONdt', '5hiph9cNr39AY1IrczQsj4', '1L76HxtZkpUx00RiNJ5UCf', '4Oun2ylbjFKMPTiaSbbCih', '7KHixMcZqOwQ1Q2svkO4la', '5WHTFyqSii0lmT9R21abT8', '4i2qxFEVVUi8yOYoxB8TCX', '52b5jFoD1Is2dtAZZS894x', '63aad0ckWuHWeBgib3DNeK', '1DFD5Fotzgn6yYXkYsKiGs', '5zjPsD9ozFh1DlaRltdjN9', '1tCfMm3WulTh8pxyVlQi30', '1paoFVtY4d2qb2EX8SWVWW', '1vTvSRxlE3YBB7fnlwoi1n', '4ycKgmGOtvuJZVPyvBpVVU', '30F5BxQOjeZtWKfSK8YW5K', '597Ma4XVex5FtDbNMkSvtn', '57Cjph8JmULfgv2CfDUysI', '4APifWvGosAbrlK8Gvv0ic', '6vgUhgKdNjmcse3wQVLluI', '6aoscmnlMH8ydXZ1AOOWvF', '60KxJyXQUsX9bhVd8qgDLG', '6dNdRdscMFQz1QU9RFySpw', '2rOxFCeqeRBDSLz1DVURMP', '0hujzXTF2t4hmFDaaC3nh6', '2NTsIySMwtGF5fPl6jIcSn', '1GgRUkWVQpbbmfi1ETKJFR', '7aXtnQUlAvVEKHvmRqS54t', '4LVb1rAYxhnKn0oVTZu6Dp', '4SsfqjdmhglYwqrVYbwJQj', '6KI1ZpZWYAJLvmVhCJz65G', '3qw9rbM22j7TauihIva5Js', '4QCVvLRNP45j83odN8Gzml', '0ByMNEPAPpOR5H69DVrTNy', '3DsjHcLYMExprXJECT4QQP', '2WyRfGeHo97VC5mP1BBSzr', '5ClXLJW6OLZuTLCwhmX9h9', '2GYHyAoLWpkxLVa4oYTVko', '0HPD5WQqrq7wPWR7P7Dw1i', '0Altlm3kLPob56k2qqR4i2', '38lknictgsxIHKBK3Amw0g', '6aktw5B8WX5l1j3hHO9LD9', '0R7YVi7w41Dr9jU5vblAok', '4ccYRZ7WptUbPD3RZ0BhvP', '0ULTrYSHrvfT3wYUqDOmdi', '2MdOhvV5n3iVhrakmQAiKc', '7t7StcMUr1cqBZiRgDWwEs', '6A8B1kJ9ZNHbl2uFPN6Wtm', '6QmvGtapHbSNolhCzfZGXZ', '4VugOAa3fFb1Lq6KHXXF8y', '08GeN2LsFVQQpolgB9XRZR', '3iw6V4LH7yPj1ESORX9RIN', '1uH1Nd8vet2uoZSDFSDwbh', '4NOZ35Dhucr6UlVyLOtktd', '0cVWsZDecQYXWY4j1KjhDg', '4cG7HUWYHBV6R6tHn1gxrl', '1dh93oIZ4KWLOjPr6kWec9', '3BZEcbdtXQSo7OrvKRJ6mb', '32yIEFS62uS5ryhr2Xlooj', '2s5YN9O8Qv25BjQobPHWVZ', '4DMPn1rEujpIJIvjy9HKV8', '1L0rvFTlpoR8rHxdR4lTSN', '7C86DVl6REN8VPeGEMOf9q', '3UB6bgxx6WGrOws9szkOvm', '5QY38we5AE85kkrXUrdLEC', '4QNpBfC0zvjKqPJcyqBy9W', '62zFEHfAYl5kdHYOivj4BC', '7KPr0YxECy4Q1k2F17Sa0Q', '4d2hD63oUGU3s7L66JD0BE', '503NIPNA6wDfOsk6lZKOXi', '4rBvqjf38GjJ5WM2ZqfoID', '5X6IHhRkUJqXxVgolPFOxi', '3v3K7xgKQahAml0BGjdIfY', '24Yi9hE78yPEbZ4kxyoXAI', '2SPVXK9xjkF3iAmvWySvqL', '1AguHaKOuggrVTebp7cZEI', '5t7rDlqL7Ji3BrpOJFKBCr', '0fljXRHHke69eOwJdzX0bQ', '7sr07mEoub2rJ17zQ3VMgS', '2gbmrsnfYif0tF3Gj5xpyt', '77PIgzFwxUg5F8eqRnccQZ', '4cVEPKl3R48L5NhT4PRhij', '0TgjaTx01zz00sChUgHiTx', '6rbELcE12mocI0L0VGJYjk', '5br1sln14ZjPdRUAxxOTwd', '4aIdlx4MDx0z0qGLNotRAM', '0Fr0Y0IQNWPYziFcqqkEc9', '6dzg3bPEKKarOBUEm6USep', '7AsZBYnkr557jqhm57PbpJ', '2tftivjRsvKs0jFH9h3Ti8', '3soOPBuMK8YMdWnV7xpEyf', '4h8VwCb1MTGoLKueQ1WgbD', '4eu1eq7uniQmblehyOB8Bf', '4d3yjwnVVZewZpNTGV34zG', '5UzPmB3EnktKPpILh42kfZ', '0WCiI0ddWiu5F2kSHgfw5S', '5RzFJd6W40SDTyZkX6xx45', '5ID7vGQn7i9SFCHqXwDWuE', '2iblMMIgSznA464mNov7A8', '4GkBJSSHZH59LTVeIKDQgZ', '3H1AVr1EZqacjtG0btvXML', '6f3Slt0GbA2bPZlz0aIFXN', '5YaskwnGDZFDRipaqzbwQx', '2pPO9YecZimmuVQfIzfV6U', '5PjdY0CKGZdEuoNab3yDmX', '2duqt4cyVkbMvgf8PW7U2f', '1gAoFkCHYUTac2uZbcxYnY', '3uksXbaCYVWXLCZ2BYVgYY', '7BHifng5YFDsFFwLviBgB5', '0xKwspALAVMED8bZhWNNW4', '2Tk5B1h58lJRsrivGg1jaE', '5tY2k2BhO8vyAMkzXm6yNc', '01FS9t6IaIpc6P7hFtc6gY', '6wPsHct4yJfplE3nA9qvac', '16Cs9KsHzgunxaEfGrXysG', '1h9jDmlLxjR9KPYWr2mnGV', '4CqZ6L1ZZnnhV8K7OeocjU', '3M89zvwwb1jtDUDKYNsdiA', '6PtAic2Ngv3htJo0nfsVT7', '3u7iK6BhDzHxoc6BJ6br2m', '6DsPM0HMAXN5x4pzBR6bbo', '4rPkN1FMzQyFNP9cLUGIIB', '3Vi5XqYrmQgOYBajMWSvCi', '5lAnYvAIkSDNXqfo7DyFUm', '6D0y73HlVdSG0sWm5F6V5o', '0QIYINh2AwmOmdu8CRYvlw', '7F25roCtYi55JouckaayPC', '6VRhkROS2SZHGlp0pxndbJ', '6zX1edWck5DxIBWQMOUXO5', '2xjGi2KijUILDky1wRMEkp', '3EfMGeYXw69Saa14torWpK', '4rQuuWoR8HNJMQNoxd6ZKn', '4356Typ82hUiFAynbLYbPn', '4nwiW5Bk0ujXEGVU6wKbAg', '0TvvRl13syy2Lbs8RLRMtc', '26spalP6x2gUAab8rwB8dQ', '2USlegnFJLrVLpoVfPimKB', '03UrZgTINDqvnUMbbIMhql', '5ID7vGQn7i9SFCHqXwDWuE', '7hU3IHwjX150XLoTVmjD0q', '6tYYEhNoXlPfjgkMmFpd5k', '01XFgRZfZI7oBagNf1Loml', '3eJH2nAjvNXdmPfBkALiPZ', '10hfvDwUbuG9lEakB3SChD', '1EQFOouqdKYdpbNoOHRVO2', '6KimwmJuPvXwuc5ribtUkf', '3lFrFQcZWPLa8WEG7xoc4b', '0zO8ctW0UiuOefR87OeJOZ', '18asYwWugKjjsihZ0YvRxO', '6nw6HDH049R7j7JArouHn3', '5oScu2s1RNMmXc5GoihMSC', '5EYdTPdJD74r9EVZBztqGG', '4uiqe7XN1Om1QqyIwrhNZz', '09ISyLOPeuno7kKlzdbZuq', '6B3iS1hZQDeiTjvISUz9AA', '6gXI1mXOO1N39k9x3uNy9B', '08EMclZsu3ZwuQxlVcsAXI', '6IbnUaczZBT34DhaD6S18F', '6Dy1jexKYriXAVG6evyUTJ', '5MhsZlmKJG6X5kTHkdwC4B', '4sYFG8Rz3TDYucZgGbtqSY', '4hngQBMVv6VPYTXQcySo9f', '5SXjrZQo82PskJa8UTFpJV', '6T689Jvh5KrSXyaPtUWZtQ', '7jk7gqyEonmVVYahZN5zhW', '4fixebDZAVToLbUCuEloa2', '223VlHsryk8Vt7V72aG7u0', '5iyZwawawLjHYpX4MxUKVF', '2QCcZhDSPviJxsqKwx3Ndl', '07Qtx5pK9B6n0UB1cyKTgE', '3RGfeMtWWEs1sJI2NWY1BV', '2hdy9Wt9qp7M7d0U3ossu2', '2tPEV1kekqG1XPyYTVjeNM', '1PAYgOjp1c9rrZ2kVQg2vN', '5ka2ajep9OAvU5Sgduhiex', '6bhMtVgwLNljlprOizUdy7', '4F7A0DXBrmUAkp32uenhZt', '2565OQ20D2CM4fwVkRjYcI', '5fwSHlTEWpluwOM0Sxnh5k', '7hmigcK9DkLjoXo4MzWQLs', '1HHeOs6zRdF8Ck58easiAY', '4kgsK0fftHtg9gZOzkU5T2', '5ZnxGXgVnjsjduuqvGaPA0', '3JTjLyrnevl9ASw3ayGO2P', '6SIQWeDWu21tUq3KoI1g36', '5BsRZqHI8oLMc1YKsHtauE', '6HnMViOtSLFKr7KI8846Ek', '6jEZLz3YpnEBRpVkv35AmP', '6ZZr5ew0DvA6xda9T5owOU', '0xfMlIW8lS40qvpsUw1l0X', '3uUuGVFu1V7jTQL60S1r8z', '2bLqfJjuC5syrsgDsZfGmn', '6LnWNqUKhiBgQomH7vWeBX', '0laYHRpNTS6i8FXdupHkJ4', '7COfe3P7KgfwDwIRB8LIDw', '2EBCVPNAG46nbgs6jXPGvv', '1r9xUipOqoNwggBpENDsvJ', '55qPuI6NekVyNPM6kh5DN4', '3MNT6f3O8kyyJmi3iOXoLY', '0lQ2obtzmAsJu9xk3D6FqH', '1X1xBGvVB1ri3U7CYFAY1Q', '7ElF5zxOwYP4qVSWVvse3W', '0fGh0trRN1xz3s41r7V5ce', '0oCfAmUgts2Lwf4bd7KvdL', '4I50GQ3rLcdlb8iqLlLmxU', '6j18xkw5Mbr7ultdA0Au8J', '3VAaHlMkxqBqUrI4LygScJ', '19OJJw3lbZT8mKjJzTvS11', '3RlvIvpWVeXdaV7GfaHNJY', '3pYDZTJM2tVBUhIRifWVzI', '1V6gIisPpYqgFeWbMLI0bA', '5kcE7pp02ezLZaUbbMv3Iq', '5Cqd96h4G16XV4Fx2VuTn9', '3b8VSGdio0HRI3I4IIDxjR', '2N2vT7prULYdnOeqA0XBDy', '3Rdz3JsgglGWk4GW0J9tlz', '0cQ4rC6JjeCwBIKXLV9VVY', '5vwnGfnh0zrjbKKRNFiSMg', '4w13LsM06KqCN7VV8xCcXN', '5lReBk90ZP789ifKYOty8z', '66OKFMiTO5ZkbkY8jH8iJ0', '5Zz1wY7EtsQSgJWUKSsRpR', '5l6IAWG8RTWE0AHK04RYRi', '5tWk5AmzccMb4g2ktpjJNL', '6xylvfOdWK0NydJtwJpie8', '48yzgKh8X4KZFusUsH6ZPN', '37hL5OeZOogmPRKPnpypxU', '6HuIDr0u7hgluwYGgzrVFW', '1p5jgCAGFDBIBs6ZbWIMvA', '7boHh6qfpgZIxJQhLY2gZZ', '2sEk5R8ErGIFxbZ7rX6S2S', '3nMb7ToWIxYvmaIG20z6ux', '0eH2eHURaXUP15D8gQlfjx', '4sOX1nhpKwFWPvoMMExi3q', '27rdGxbavYJeBphck5MZAF', '50TYU9eZmgHwUeDRCTquii', '0iVkWge9ytV4Scgy2hQ2za', '1dt220OBbkTsYz1NLVKIaw', '2dWNKXTs5z7Iu1g0kYh4Xe', '2jsmSLoX8y0h6k4YzDCFH1', '6xIu4wz5ihfzX5h7D8lTYr', '4MVkcj2IShjVktEcNKwxSr', '0R97k5AJy1udJI6mGV82FJ', '6DQSu0S1pYmtVxYFYJD2D6', '3BABTkGs0AIECWbwswLegi', '5YYQxvTeF8rSOv2wnazgpw', '1tzYjNuVDJ4vHtoQxJ6Jx2', '5OYUtKjALXnNjXRwTVStCK', '6gqmeX5tg8pDHJN2n4Ha3d', '28bSOChAMwPQE9dxBmhAGA', '55qLZsMb2W1OHkAwQnSJ2x', '21ZbAyDEFfL67DiF14CAV6', '4cR4gpeLWhFgRO780LMVKe', '0KsB4TwgATg88aXCMBoO3Y', '1yAVnDXvfUb1UnLtnBjttw', '5gflgO9EPbIBf16n5TKnQS', '2gam98EZKrF9XuOkU13ApN', '7xRfNTW18gIo14hSwR3zOf', '4S8d14HvHb70ImctNgVzQQ', '0HIj0uo7zaFIpkzUIkDlmL', '2VOomzT6VavJOGBeySqaMc', '5cCAZS9VhLGEDV4NCfieeg', '6hyAHSZHku6qq8FKolMUdI', '1ZKNpjwhaCZmcGGvLqQi9k', '4NhDYoQTYCdWHTvlbGVgwo', '5DdKP76X7MVgbnIeWNqOx3', '4sFDPk9PwpHWDcXN8rY2oA', '2Ynd1BuOdfrGFU1HgW5fXJ', '6aHVPCIzIovTCYyOEvJu7K', '5kKtS4tchKBOjLHY0GaSvK', '3ff4lPdQZfMJ79xn5JM64K', '6Zo3wgDE076K2AuiGZF3CS', '5YUGYQP1stkhjWIxmLvcgf', '4ttjtLeCx3rwltZR3w7gWV', '3CqvR4Xj5OtUFPKxJBKRZe', '5HoVg6hC4eTJfLmKE5WCZT', '3oWkBnpg6cYYwUka7kmomo', '70Vdd1gx5tn84jkAU31ASv', '7pNC5ZIKtwUK0ReSpM3P9f', '5gOiQnr9vyVd7axBKWH0gy', '55CHeLEfn5iJ0IIkgaa4si', '49Eo0N8DP9mt3e6EiaqbxY', '3uwnnTQcHM1rDqSfA4gQNz', '6gPqBegU4aDWoSYXeCyURA', '76sWab9iC3vvk21aln8G8t', '2toVe5hfuIi97ytDPDbQFt', '3qKGvSu1inEZKwYQnMavNA', '4xGuK7FsXuZwHCCuNnPzbD', '0U10zFw4GlBacOy9VDGfGL', '1Je1IMUlBXcx1Fz0WE7oPT', '42Ow7PS3YtCWplolUUigDo', '62feRreeM9ea7i2VHVSKrg', '1jcm8V5YQWAZrSMSkzCg6o', '2eLzaGduYzNOm1imc3lQVs', '2prnn41CblB8B4yWACDljP']\n"
        }
      ],
      "execution_count": 9,
      "metadata": {
        "jupyter": {
          "source_hidden": false,
          "outputs_hidden": false
        },
        "nteract": {
          "transient": {
            "deleting": false
          }
        },
        "gather": {
          "logged": 1649491651495
        }
      }
    },
    {
      "cell_type": "code",
      "source": [
        "i = len(ids)\r\n",
        "print(i)\r\n",
        "if len(ids) != len(set(ids)):\r\n",
        "    ids = list(set(ids))\r\n",
        "    print(\"Duplicates found, {} rows cleaned.\".format(i-len(ids)))\r\n",
        "    print(len(ids))\r\n",
        "else:\r\n",
        "    print(\"No duplicates\")"
      ],
      "outputs": [
        {
          "output_type": "stream",
          "name": "stdout",
          "text": "1321\nDuplicates found, 902 rows cleaned.\n419\n"
        }
      ],
      "execution_count": 10,
      "metadata": {
        "jupyter": {
          "source_hidden": false,
          "outputs_hidden": false
        },
        "nteract": {
          "transient": {
            "deleting": false
          }
        },
        "gather": {
          "logged": 1649491663120
        }
      }
    },
    {
      "cell_type": "code",
      "source": [
        "labels = [\"name\", \"length\", \"popularity\",'acousticness','danceability','energy','instrumentalness','liveness','loudness', 'speechiness','tempo','time_signature']\r\n",
        "df = pd.DataFrame(columns = labels, index=range(len(ids)))\r\n",
        "tmp_dict = {}\r\n",
        "for i in range(len(ids)):\r\n",
        "    att = 0\r\n",
        "    track = []\r\n",
        "    while att <= 3:\r\n",
        "        try:\r\n",
        "            metadata = sp.track(ids[i])\r\n",
        "            print(metadata['name'])\r\n",
        "            features = sp.audio_features(ids[i])\r\n",
        "            df.loc[i].name = metadata['name']\r\n",
        "            df.loc[i].lenght = metadata['duration_ms']\r\n",
        "            df.loc[i].popularity = metadata['popularity']\r\n",
        "            \r\n",
        "            df.loc[i].acousticness = features[0]['acousticness']\r\n",
        "            df.loc[i].danceability = features[0]['danceability']\r\n",
        "            df.loc[i].energy = features[0]['energy']\r\n",
        "            df.loc[i].instrumentalness = features[0]['instrumentalness']\r\n",
        "            df.loc[i].liveness = features[0]['liveness']\r\n",
        "            df.loc[i].loudness = features[0]['loudness']\r\n",
        "            df.loc[i].speechiness = features[0]['speechiness']\r\n",
        "            df.loc[i].tempo = features[0]['tempo']\r\n",
        "            df.loc[i].time_signiature = features[0]['time_signature']\r\n",
        "            break;\r\n",
        "        except ReadTimeout:\r\n",
        "            att = att + 1\r\n",
        "df.head()\r\n",
        "     "
      ],
      "outputs": [
        {
          "output_type": "stream",
          "name": "stdout",
          "text": "Right Now\nKarjala Takas\nMacho\nTempo\nLike A G6\nMauton jasso\nLoveGame\nWAP (feat. Megan Thee Stallion)\nTäydelliset\nMenolippu\nNew Thang\nScream & Shout\nHyväuskoinen\nJuusto Katolle\nCircus\nTiK ToK\nOon voimissain - I Will Survive\nMaradona (kesä ´86)\nBest Friend (feat. Doja Cat)\nDance Again\nRoy Orbison\nPaha poika\nI Wanna Go\nS&M\nThe Bad Touch\nLove You Like A Love Song\nWiggle It (feat. City Girls)\nSe syö naista\nCon Calma\nLiar\nRahaa palaa feat. Uniikki\nPyrkiny vähentää (feat. Spekti)\nTell Me A Lie\nThere She Goes\nStarships\nOptinen harha\nTää On Se Maa\nWoppaa\nLINKO\nGUY.exe\nAlone (feat. Anjulie & Jeffrey Jey)\nHevosii\nAlors on danse - Radio Edit\nÄmmä\nParty Monster\n8-0\nMy Heart Goes (La Di Da) (feat. Topic)\nPojat (feat. Yeboyah)\nPäivit Tua Menee\nLite bättre\nLähekkö panee - feat. Emel\nJaa jaa keskikaljaa\nI Kissed A Girl\nLove Tonight - David Guetta Remix Edit\nVillit tytöt\nSori en oo pahoillani\nBalenciaga\nGimme Gimme Gimme (a man after midnight) - Club Mix\nWellerman - Sea Shanty / 220 KID x Billen Ted Remix\nWho's That Chick? (feat. Rihanna)\nEnnen Ku Mä Delaan\nDrop That Low (When I Dip)\nMentävä On\nBonfire\nNormipäivä (feat. Hank Solo)\n7300 päivää (feat. Erika Vikman & Danny)\nDesibelii (feat. Sharon)\nJenny (I Wanna Ruin Our Friendship)\nSalt\nTilttiin\nSweat - Remix\nOnly Girl (In The World)\nLevoton Tuhkimo (Hands Up Remix)\nMaailman onnellisin maa\nFriday (feat. Mufasa & Hypeman) - Dopamine Re-Edit\nLlama In My Living Room\nNo 1 Else - Radio Mix\nLife (Sun luo)\nYour Love (9PM)\nSlumber Party (feat. Princess Nokia)\nIn Your Eyes (feat. Alida)\nHow to Be a Heartbreaker\nCicciolina\nBe My Lover\nAja\nKotibileet - feat. Emel, Ozzy & Aajee\nSatamiljoonaa Kertaa\nYou Don't Own Me (feat. G-Eazy)\nGasolina\n16 Shots\nCall Me (with R3HAB & Timmy Trumpet)\nYo Voy (feat. Daddy Yankee)\nPojat (feat. TIPPA)\nDark Horse\nWe Found Love\nAstronomia - Never Go Home\nSoittorasia\nBlow\nTexas Sex Ranger (feat. Eino Antiwäkki)\nNo Boyfriend (feat. Mayra Verónica) - Radio Vocal Mix\nMirrors\nDrop It\nThe Motto\nNever Leave You\nWTF (feat. Amber Van Day)\nI Love It (& Lil Pump)\nMad Love\nEtsit Muijaa Seuraavaa\nPakita\nDon't Be so Shy - Filatov & Karas Remix\nRyyppy - Hevoshullu Remix\nHULLU\nPelkkää voittoo\nMärkää\nKimmon Hondan Takapenkillä\nNever Going Home\nUUDESTAAN\nI Know You Want Me (Calle Ocho)\nOle hyvä!\nBad Romance\nDon't Call Me Up\nYsäri\nSierralla Nevadaan\nBad To The Bone\nPiece Of Your Heart\nCoco Jamboo\nSmack That\nÄänii\nStamp on the Ground - Radio Edit\nMilkshake\nBangarang (feat. Sirah)\nMy Head & My Heart\nTap In\nPoikkeus sääntöön\nMONTERO (Call Me By Your Name)\nMidnight Sky\nVuonna '85\nPimeän värit\nFrom Paris to Berlin\nSupernaiset\nSexy And I Know It\nPanomies\nHotel Room Service\nAftershock\nSamma gamla vanliga - Remix\nChilii (feat. SINI YASEMIN)\nBombo\nL'Amour Toujours\nRakkautta ja piikkilankaa\nGangnam Style (강남스타일)\nValvon\nKahvimaito\nJuppi\nPromiscuous\nPahoi Poikii\nMi Gente\nOlen suomalainen\nEnemy (with JID) - from the series Arcane League of Legends\nHetki lyö\nBad (feat. Vassy) - Radio Edit\nJudas\nJallutyttö\nUp\nNössö\nBad Romance\nI'm Into You\nMä En Kestä\nPlay Hard (feat. Ne-Yo & Akon) - New Edit\nDark Side\nRight Round\nSytyn\nFørsterekka 2020\nPound The Alarm\nNothing Breaks Like a Heart (feat. Miley Cyrus)\nDisko\nBreathe\nEverytime We Touch - Radio Edit\nMONEY\nVilli ja vitun vapaa\nPohjolan pidot (feat. Ilkka Vainio ja Levi-Äijä)\nForza Italia\nIkuinen vappu\nTarkenee\nKultaa\nRaketti-Paketti\nHittiputki\nPitkä Perjantai\nAin't Shit\nMacho Fantastico\nFreaks\nDrive\nIlmastonmuutos\nMarijuana\nTonight (I'm Fuckin' You)\nKyläbaari\nRam pam pam\nWannabe\nMad Love\nTää Ilta\nMr. Saxobeat - Radio Edit\nTemperature\nNelisilmä (feat. Heikki Kuula)\nSyntisten pöytä\nI Got Bitches\nPrisoner (feat. Dua Lipa)\nLelu\nSeksihelteet\nHangover\nMemories (feat. Kid Cudi)\nMemories (feat. Kid Cudi)\nNobody To Love - Radio Edit\nHey Baby (Drop It to the Floor) (feat. T-Pain)\nPojat (feat. Yeboyah)\nSavage\nSuomineidot\nPannaan Suomi Kuntoon\nBoyfriend\nЯ буду ебать\nDJ Got Us Fallin' In Love (feat. Pitbull)\nEI\nTuu Lähemmäs\nKylie - Original Radio Edit\nDon Juan (feat. Danny)\nMy Life Is A Party - Radio Edit\nYou\nCool for the Summer\nShort Dick Man - Club Mix\nJuna\nNyt on jatkot\nKun me diskossa suudeltiin\nBlack Widow\nSirpa (feat. Ulpu)\nDon't Stop the Party (feat. TJR)\nBeibi älä vonkaa\nShake That\nLifestyle (feat. Adam Levine) - David Guetta Slap House Mix\nRoviolla\nCriminal\nOdota (feat. Juno)\nCalabria (feat. Fallen Roses, Lujavo & Lunis)\nToca Toca - Radio Edit\nWunderboy\nBreak Your Heart\nVuosien päästä (feat. Etta)\nReggaerekka (feat. Petri Nygård)\nHei Hei Kesä\nSata kesää, tuhat yötä - Boogie Woogie Dancing Shoes\nMärkylii\nStill Be Friends (feat. Tory Lanez & Tyga)\nMa chérie (feat. The Beat Shakers) - DJ Antoine vs Mad Mark 2k12 Radio Edit\nBambina (WTF)\nSata salamaa\nGoosebumps\nShe Makes Me Go (feat. Sean Paul) - Radio Edit\nMehu\nArvon Leidit\nSexyBack (feat. Timbaland)\nKran Turismo (feat. Raappana)\nLevikset repee (feat. VilleGalle)\nPojat on poikii feat. Elastinen & Spekti\nAstronaut In The Ocean\nMinttu & Ville\nMidnight Sky\nSteppasin Partyy\nKäki\nHeart Attack\nMiesflunssa (feat. Hesaäijä)\nMoney Dance\nKannut (Olut virtaa taas)\nFREAK\nTyttö sä oot tähti\nSexyBack (feat. Timbaland)\nThe Way I Are\nMother's Daughter\nRentun ruusu\nKapteeni käskee\nLämpöö\nDied In Your Arms - Original Mix Edit\nYön Polte - Tyttö sinä olet meritähti\nTänään Lähtee\nIkuinen Virta\nOld Town Road (feat. Billy Ray Cyrus) - Remix\nLemmikki\nWhere Them Girls At (feat. Nicki Minaj & Flo Rida)\nDangerous\nYou're Ma Cherie (feat. Pitbull) - DJ Antoine vs Mad Mark 2k13 Radio Edit\nKesäfiilistelyy (feat. RicoWamos)\nGOOBA\nWasted Love (feat. Lagique)\nFun (feat. Chris Brown)\nChanged the Way You Kiss Me - Radio Edit\nCity Boy\nPepas\nLopeta - Original Mix\nMoney\nGet Busy\nPämppää\nKyllikki\nHölkälle\nSuomalaisen miehen kyyneleet\nInstruction\nAy Ay Ay\n#Dissaa\nPerutaan Häät - Vain Elämää Kausi 9\nPämppää\nAlejandro\nR-I-K-A-S (Kultachain)\nPelimies\nEi tippa tapa\nGentleman\nRomeo & Julia\nLainaa\nMiracle\nSTAY (with Justin Bieber)\nWet - Remix\nNeed to Know\nBOYSHIT\nBailando\nPane mut sekasin\nWomanizer\nTulikärpäset\nM\nabcdefu (angrier)\nParty Shaker - Video Edit\nKomiat pärjää aina\nAround the World (La La La La La) - Radio Version\nKankaanpään tori (feat. Mira Luoti) [Vain elämää kausi 12]\nStereo Love - Radio Edit\nSaisit haudatun kuun\nHurricane\nPanisin\nKickstart\nI Love You\nPon de Replay\nHäissä (feat. Märkä-Simo)\nMinions\nOlutta ja mennyttä (feat. Tauski)\nMixet tahdo olla munkaa 2010\nNätti\nPon De Replay - 2020 Edit\nTinakenkätyttö (Hands up Remix)\nSun Kyydissä\nCollard Greens\nTaste (feat. Offset)\nSelvä päivä - feat. Lord Est\nI'm an Albatraoz\nAcapulco\nIn The Dark\nTalk Dirty (feat. 2 Chainz)\nWhere Are You Now\nTuhat poikaystävää\nHubba Bubba\nPubiruusu\nDay 'N' Night - Club Mix\nJos mä oisin sun mies\nTake It Off\nDon't Stop The Music\nIf U Seek Amy\nMoney and the Power\nBarbie Girl - EDM Remix\nJuomalaulu\nLintu\nPoison - DJ THT & Ced Tecknoboy Radio Edit\nThis Is Love\nWorth It (feat. Kid Ink)\nHotel Room Service\nLove Again\nThe Business\nPompota\nSeksikkäin jäbä\nDirty Mind\nInternational Love (feat. Chris Brown)\nHarlem Shake\nGas Pedal\nLonkeronvärinen taivas\nJoka Päivä Ja Joka Ikinen Yö\nFriendships (Lost My Love)\nVierasta Miestä\nHarmaa Rinne\nEi suomalaiset tanssi\nKaruselli\nRoses - Imanbek Remix\nMahtava peräsin ja pulleat purjeet (feat. Jaakko Laitinen)\nLevoton tyttö (feat. Evelina, Nelli Matula) [Vain elämää kausi 12]\nJust Dance\nNyt Jutisee\nKuivilla susta\nUp Down (Do This All Day) (feat. B.o.B)\nSatasen Laina\nPrimadonna\nTuhansien Lärvien Maa\nDisturbia\nChe Guevara 2K18\nWake Me Up\nWhere Have You Been\nGive Me Everything (feat. Ne-Yo, Afrojack & Nayer)\nApplause\nPrisoner (feat. Dua Lipa)\nBad Boy\nKaikki tytöt\nBoss Bitch\nMä En Haluu Tietää\nOUT OUT (feat. Charli XCX & Saweetie)\n#ihanaa\nThunder\nIhanuuteni\nBubblegum Bitch\nKeski-Suomeen\nKippis kulaus\nVamos a la Playa\nYsäriBoi\nSexy Bitch (feat. Akon)\nJuoppokuski\nVain yksi sinä\nBuss It\nAngels Crying\nTsiigaa sun perää (feat. Raappana & Seksikäs-Suklaa)\nErittäin Hyvä\nBumpy Ride\n"
        },
        {
          "output_type": "execute_result",
          "execution_count": 24,
          "data": {
            "text/plain": "  name length popularity acousticness danceability energy instrumentalness  \\\n0  NaN    NaN         67        0.049        0.668   0.64                0   \n1  NaN    NaN          1      0.00578        0.759   0.87                0   \n2  NaN    NaN         40        0.442        0.767  0.674                0   \n3  NaN    NaN         48        0.222         0.96  0.753            0.563   \n4  NaN    NaN          0      0.00618        0.431  0.862                0   \n\n  liveness loudness speechiness    tempo time_signature  \n0   0.0675   -5.208      0.0888  130.004            NaN  \n1    0.141   -4.255      0.0311   115.03            NaN  \n2    0.117  -10.966       0.209   134.06            NaN  \n3    0.083   -5.403       0.043  127.998            NaN  \n4    0.322   -7.005       0.428   124.93            NaN  ",
            "text/html": "<div>\n<style scoped>\n    .dataframe tbody tr th:only-of-type {\n        vertical-align: middle;\n    }\n\n    .dataframe tbody tr th {\n        vertical-align: top;\n    }\n\n    .dataframe thead th {\n        text-align: right;\n    }\n</style>\n<table border=\"1\" class=\"dataframe\">\n  <thead>\n    <tr style=\"text-align: right;\">\n      <th></th>\n      <th>name</th>\n      <th>length</th>\n      <th>popularity</th>\n      <th>acousticness</th>\n      <th>danceability</th>\n      <th>energy</th>\n      <th>instrumentalness</th>\n      <th>liveness</th>\n      <th>loudness</th>\n      <th>speechiness</th>\n      <th>tempo</th>\n      <th>time_signature</th>\n    </tr>\n  </thead>\n  <tbody>\n    <tr>\n      <th>0</th>\n      <td>NaN</td>\n      <td>NaN</td>\n      <td>67</td>\n      <td>0.049</td>\n      <td>0.668</td>\n      <td>0.64</td>\n      <td>0</td>\n      <td>0.0675</td>\n      <td>-5.208</td>\n      <td>0.0888</td>\n      <td>130.004</td>\n      <td>NaN</td>\n    </tr>\n    <tr>\n      <th>1</th>\n      <td>NaN</td>\n      <td>NaN</td>\n      <td>1</td>\n      <td>0.00578</td>\n      <td>0.759</td>\n      <td>0.87</td>\n      <td>0</td>\n      <td>0.141</td>\n      <td>-4.255</td>\n      <td>0.0311</td>\n      <td>115.03</td>\n      <td>NaN</td>\n    </tr>\n    <tr>\n      <th>2</th>\n      <td>NaN</td>\n      <td>NaN</td>\n      <td>40</td>\n      <td>0.442</td>\n      <td>0.767</td>\n      <td>0.674</td>\n      <td>0</td>\n      <td>0.117</td>\n      <td>-10.966</td>\n      <td>0.209</td>\n      <td>134.06</td>\n      <td>NaN</td>\n    </tr>\n    <tr>\n      <th>3</th>\n      <td>NaN</td>\n      <td>NaN</td>\n      <td>48</td>\n      <td>0.222</td>\n      <td>0.96</td>\n      <td>0.753</td>\n      <td>0.563</td>\n      <td>0.083</td>\n      <td>-5.403</td>\n      <td>0.043</td>\n      <td>127.998</td>\n      <td>NaN</td>\n    </tr>\n    <tr>\n      <th>4</th>\n      <td>NaN</td>\n      <td>NaN</td>\n      <td>0</td>\n      <td>0.00618</td>\n      <td>0.431</td>\n      <td>0.862</td>\n      <td>0</td>\n      <td>0.322</td>\n      <td>-7.005</td>\n      <td>0.428</td>\n      <td>124.93</td>\n      <td>NaN</td>\n    </tr>\n  </tbody>\n</table>\n</div>"
          },
          "metadata": {}
        }
      ],
      "execution_count": 24,
      "metadata": {
        "jupyter": {
          "source_hidden": false,
          "outputs_hidden": false
        },
        "nteract": {
          "transient": {
            "deleting": false
          }
        },
        "gather": {
          "logged": 1649493788956
        }
      }
    },
    {
      "cell_type": "code",
      "source": [
        "pop_pred = pickle.load(open(\"PopularityPred.sav\", \"rb\"))\r\n",
        "class_pred = pickle.load(open(\"LabelPred.sav\", \"rb\"))"
      ],
      "outputs": [],
      "execution_count": null,
      "metadata": {
        "jupyter": {
          "source_hidden": false,
          "outputs_hidden": false
        },
        "nteract": {
          "transient": {
            "deleting": false
          }
        },
        "gather": {
          "logged": 1649491603141
        }
      }
    },
    {
      "cell_type": "code",
      "source": [
        "pop_ = pop_pred.predict(df)\r\n",
        "print(pop_)"
      ],
      "outputs": [],
      "execution_count": null,
      "metadata": {
        "jupyter": {
          "source_hidden": false,
          "outputs_hidden": false
        },
        "nteract": {
          "transient": {
            "deleting": false
          }
        },
        "gather": {
          "logged": 1649491603159
        }
      }
    }
  ],
  "metadata": {
    "kernelspec": {
      "name": "python38-azureml",
      "language": "python",
      "display_name": "Python 3.8 - AzureML"
    },
    "language_info": {
      "name": "python",
      "version": "3.8.1",
      "mimetype": "text/x-python",
      "codemirror_mode": {
        "name": "ipython",
        "version": 3
      },
      "pygments_lexer": "ipython3",
      "nbconvert_exporter": "python",
      "file_extension": ".py"
    },
    "kernel_info": {
      "name": "python38-azureml"
    },
    "microsoft": {
      "host": {
        "AzureML": {
          "notebookHasBeenCompleted": true
        }
      }
    },
    "nteract": {
      "version": "nteract-front-end@1.0.0"
    }
  },
  "nbformat": 4,
  "nbformat_minor": 2
}