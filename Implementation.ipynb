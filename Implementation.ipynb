{
  "cells": [
    {
      "cell_type": "code",
      "source": [
        "from requests import Timeout\n",
        "from sklearn.preprocessing import MinMaxScaler\n",
        "import matplotlib.pyplot as plt\n",
        "import pandas as pd\n",
        "import spotipy as spy\n",
        "import pickle\n",
        "import csv\n"
      ],
      "outputs": [],
      "execution_count": 1,
      "metadata": {
        "gather": {
          "logged": 1649839598191
        }
      }
    },
    {
      "cell_type": "code",
      "source": [
        "with open('secret.txt') as s:\n",
        "    client_secret = next(s)\n",
        "s.close()\n",
        "client_id = '339e9f02e5254f07a945aef3f9471a31'"
      ],
      "outputs": [],
      "execution_count": 2,
      "metadata": {
        "collapsed": false,
        "gather": {
          "logged": 1649839599853
        },
        "jupyter": {
          "outputs_hidden": false,
          "source_hidden": false
        },
        "nteract": {
          "transient": {
            "deleting": false
          }
        }
      }
    },
    {
      "cell_type": "code",
      "source": [
        "credentials_manager = spy.oauth2.SpotifyClientCredentials(client_id, client_secret)\n",
        "sp = spy.Spotify(client_credentials_manager=credentials_manager)"
      ],
      "outputs": [],
      "execution_count": 3,
      "metadata": {
        "collapsed": false,
        "gather": {
          "logged": 1649839602660
        },
        "jupyter": {
          "outputs_hidden": false,
          "source_hidden": false
        },
        "nteract": {
          "transient": {
            "deleting": false
          }
        }
      }
    },
    {
      "cell_type": "code",
      "source": [
        "url = input(\"Enter URL for the PUBLIC playlist you want to inspect: \")\n",
        "user = input(\"Enter the username of the playlist's owner: \")\n",
        "splitted = url.split(\"/\")\n",
        "URI = splitted[len(splitted)-1]\n",
        "print(URI)"
      ],
      "outputs": [
        {
          "output_type": "stream",
          "name": "stdout",
          "text": "4b9mSnY53QnAf6KxFffw2h\n"
        }
      ],
      "execution_count": 4,
      "metadata": {
        "collapsed": false,
        "gather": {
          "logged": 1649839645655
        },
        "jupyter": {
          "outputs_hidden": false,
          "source_hidden": false
        },
        "nteract": {
          "transient": {
            "deleting": false
          }
        }
      }
    },
    {
      "cell_type": "code",
      "source": [
        "pl_t = sp.user_playlist_tracks(user, URI)\n",
        "tmp = pl_t['items']\n",
        "ids = []\n",
        "while pl_t['next']:\n",
        "    pl_t = sp.next(pl_t)\n",
        "    tmp.extend(pl_t['items'])\n",
        "    for s in tmp:\n",
        "        ids.append(s[\"track\"][\"id\"])"
      ],
      "outputs": [],
      "execution_count": 5,
      "metadata": {
        "collapsed": false,
        "gather": {
          "logged": 1649839648814
        },
        "jupyter": {
          "outputs_hidden": false,
          "source_hidden": false
        },
        "nteract": {
          "transient": {
            "deleting": false
          }
        }
      }
    },
    {
      "cell_type": "code",
      "source": [
        "i = len(ids)\n",
        "print(i)\n",
        "if len(ids) != len(set(ids)):\n",
        "    ids = list(set(ids))\n",
        "    print(\"Duplicates found, {} rows cleaned.\".format(i-len(ids)))\n",
        "    print(len(ids))\n",
        "else:\n",
        "    print(\"No duplicates\")"
      ],
      "outputs": [
        {
          "output_type": "stream",
          "name": "stdout",
          "text": "154\nDuplicates found, 2 rows cleaned.\n152\n"
        }
      ],
      "execution_count": 6,
      "metadata": {
        "collapsed": false,
        "gather": {
          "logged": 1649839652027
        },
        "jupyter": {
          "outputs_hidden": false,
          "source_hidden": false
        },
        "nteract": {
          "transient": {
            "deleting": false
          }
        }
      }
    },
    {
      "cell_type": "code",
      "source": [
        "di = {\"name\": [], \"lenght\": [], \"popularity\": [], \"acousticness\": [], \"danceability\": [], \n",
        "\"energy\": [], \"instrumentalness\": [], \"liveness\": [], \"loudness\": [], \"speechiness\": [],\n",
        "\"tempo\": [], \"time_signiature\": []}\n",
        "\n",
        "for i in range(len(ids)):\n",
        "    try:\n",
        "        metadata = sp.track(ids[i])\n",
        "        features = sp.audio_features(ids[i])\n",
        "        di[\"name\"].append(metadata['name'])\n",
        "        di['lenght'].append(metadata['duration_ms'])\n",
        "        di['popularity'].append(metadata['popularity'])\n",
        "            \n",
        "        di['acousticness'].append(features[0]['acousticness'])\n",
        "        di['danceability'].append(features[0]['danceability'])\n",
        "        di['energy'].append(features[0]['energy'])\n",
        "        di['instrumentalness'].append(features[0]['instrumentalness'])\n",
        "        di['liveness'].append(features[0]['liveness'])\n",
        "        di['loudness'].append(features[0]['loudness'])\n",
        "        di['speechiness'].append(features[0]['speechiness'])\n",
        "        di['tempo'].append(features[0]['tempo'])\n",
        "        di['time_signiature'].append(features[0]['time_signature'])\n",
        "    except spy.SpotifyException:\n",
        "        print(\"Spotify error at id\", ids[i])\n",
        "    except Timeout:\n",
        "        print(\"API not responding, trying again.\")\n",
        "        if (i >= 1):\n",
        "            i = i - 1\n",
        "        else:\n",
        "            i = 0\n",
        "        continue\n",
        "ddf = pd.DataFrame(di)\n",
        "ddf.head()\n",
        "     "
      ],
      "outputs": [
        {
          "output_type": "stream",
          "name": "stderr",
          "text": "HTTP Error for GET to https://api.spotify.com/v1/tracks/1r8mABSC4rx9CMNIC8rCFi with Params: {'market': None} returned 404 due to None\nHTTP Error for GET to https://api.spotify.com/v1/tracks/3Zq9BbjALjRAwoO3PvzUwW with Params: {'market': None} returned 404 due to None\nHTTP Error for GET to https://api.spotify.com/v1/tracks/7BGprWocWmRdWww8709Rd2 with Params: {'market': None} returned 404 due to None\nHTTP Error for GET to https://api.spotify.com/v1/tracks/0JKSDo09ciAiKKQl35FevJ with Params: {'market': None} returned 404 due to None\nHTTP Error for GET to https://api.spotify.com/v1/tracks/2Ot6UNQ2H25L18Ll0b7yCV with Params: {'market': None} returned 404 due to None\nHTTP Error for GET to https://api.spotify.com/v1/tracks/0aD5NqlDu8eY7TT4F8wBj2 with Params: {'market': None} returned 404 due to None\n"
        },
        {
          "output_type": "execute_result",
          "execution_count": 7,
          "data": {
            "text/plain": "                   name  lenght  popularity  acousticness  danceability  \\\n0     Tahroja paperilla  286720          47       0.00799         0.763   \n1      Levottomat Jalat  190013          42       0.09030         0.543   \n2    Vie Mut Minne Vaan  228160          49       0.06960         0.422   \n3           Haltin häät  174826          35       0.64400         0.540   \n4  Totuutta ja tehtävää  242279          41       0.00670         0.541   \n\n   energy  instrumentalness  liveness  loudness  speechiness    tempo  \\\n0   0.798          0.000000    0.0449    -6.436       0.0323  120.274   \n1   0.890          0.000004    0.0951    -5.398       0.1070   93.962   \n2   0.747          0.000000    0.1020    -8.550       0.0290  163.213   \n3   0.612          0.000000    0.1080    -6.929       0.0345   96.139   \n4   0.700          0.011900    0.5680    -7.093       0.0265   94.981   \n\n   time_signiature  \n0                4  \n1                4  \n2                4  \n3                4  \n4                4  ",
            "text/html": "<div>\n<style scoped>\n    .dataframe tbody tr th:only-of-type {\n        vertical-align: middle;\n    }\n\n    .dataframe tbody tr th {\n        vertical-align: top;\n    }\n\n    .dataframe thead th {\n        text-align: right;\n    }\n</style>\n<table border=\"1\" class=\"dataframe\">\n  <thead>\n    <tr style=\"text-align: right;\">\n      <th></th>\n      <th>name</th>\n      <th>lenght</th>\n      <th>popularity</th>\n      <th>acousticness</th>\n      <th>danceability</th>\n      <th>energy</th>\n      <th>instrumentalness</th>\n      <th>liveness</th>\n      <th>loudness</th>\n      <th>speechiness</th>\n      <th>tempo</th>\n      <th>time_signiature</th>\n    </tr>\n  </thead>\n  <tbody>\n    <tr>\n      <th>0</th>\n      <td>Tahroja paperilla</td>\n      <td>286720</td>\n      <td>47</td>\n      <td>0.00799</td>\n      <td>0.763</td>\n      <td>0.798</td>\n      <td>0.000000</td>\n      <td>0.0449</td>\n      <td>-6.436</td>\n      <td>0.0323</td>\n      <td>120.274</td>\n      <td>4</td>\n    </tr>\n    <tr>\n      <th>1</th>\n      <td>Levottomat Jalat</td>\n      <td>190013</td>\n      <td>42</td>\n      <td>0.09030</td>\n      <td>0.543</td>\n      <td>0.890</td>\n      <td>0.000004</td>\n      <td>0.0951</td>\n      <td>-5.398</td>\n      <td>0.1070</td>\n      <td>93.962</td>\n      <td>4</td>\n    </tr>\n    <tr>\n      <th>2</th>\n      <td>Vie Mut Minne Vaan</td>\n      <td>228160</td>\n      <td>49</td>\n      <td>0.06960</td>\n      <td>0.422</td>\n      <td>0.747</td>\n      <td>0.000000</td>\n      <td>0.1020</td>\n      <td>-8.550</td>\n      <td>0.0290</td>\n      <td>163.213</td>\n      <td>4</td>\n    </tr>\n    <tr>\n      <th>3</th>\n      <td>Haltin häät</td>\n      <td>174826</td>\n      <td>35</td>\n      <td>0.64400</td>\n      <td>0.540</td>\n      <td>0.612</td>\n      <td>0.000000</td>\n      <td>0.1080</td>\n      <td>-6.929</td>\n      <td>0.0345</td>\n      <td>96.139</td>\n      <td>4</td>\n    </tr>\n    <tr>\n      <th>4</th>\n      <td>Totuutta ja tehtävää</td>\n      <td>242279</td>\n      <td>41</td>\n      <td>0.00670</td>\n      <td>0.541</td>\n      <td>0.700</td>\n      <td>0.011900</td>\n      <td>0.5680</td>\n      <td>-7.093</td>\n      <td>0.0265</td>\n      <td>94.981</td>\n      <td>4</td>\n    </tr>\n  </tbody>\n</table>\n</div>"
          },
          "metadata": {}
        }
      ],
      "execution_count": 7,
      "metadata": {
        "collapsed": false,
        "gather": {
          "logged": 1649839681096
        },
        "jupyter": {
          "outputs_hidden": false,
          "source_hidden": false
        },
        "nteract": {
          "transient": {
            "deleting": false
          }
        }
      }
    },
    {
      "cell_type": "code",
      "source": [
        "pop_pred = pickle.load(open(\"PopularityPred.sav\", \"rb\"))\n",
        "class_pred = pickle.load(open(\"LabelPred.sav\", \"rb\"))"
      ],
      "outputs": [
        {
          "output_type": "stream",
          "name": "stderr",
          "text": "/anaconda/envs/azureml_py38/lib/python3.8/site-packages/sklearn/base.py:329: UserWarning: Trying to unpickle estimator LogisticRegression from version 0.22.2.post1 when using version 1.0.2. This might lead to breaking code or invalid results. Use at your own risk. For more info please refer to:\nhttps://scikit-learn.org/stable/modules/model_persistence.html#security-maintainability-limitations\n  warnings.warn(\n"
        }
      ],
      "execution_count": 8,
      "metadata": {
        "collapsed": false,
        "gather": {
          "logged": 1649839686710
        },
        "jupyter": {
          "outputs_hidden": false,
          "source_hidden": false
        },
        "nteract": {
          "transient": {
            "deleting": false
          }
        }
      }
    },
    {
      "cell_type": "code",
      "source": [
        "x = ddf.copy().drop(columns=['popularity', 'name'])\n",
        "pop = pop_pred.predict(x)\n",
        "print(pop)"
      ],
      "outputs": [
        {
          "output_type": "stream",
          "name": "stdout",
          "text": "[0 0 0 0 0 0 0 0 0 0 0 0 0 0 0 0 0 0 0 0 0 0 0 0 0 0 0 0 0 0 0 0 0 0 0 0 0\n 0 0 0 0 0 0 0 0 0 0 0 0 0 0 0 0 0 0 0 0 0 0 0 0 0 0 0 0 0 0 0 0 0 0 0 0 0\n 0 0 0 0 0 0 0 0 0 0 0 0 0 0 0 0 0 0 0 0 0 0 0 0 0 0 0 0 0 0 0 0 0 0 0 0 0\n 0 0 0 0 0 0 0 0 0 0 0 0 0 0 0 0 0 0 0 0 0 0 0 0 0 0 0 0 0 0 0 0 0 0 0]\n"
        }
      ],
      "execution_count": 9,
      "metadata": {
        "collapsed": false,
        "gather": {
          "logged": 1649839689241
        },
        "jupyter": {
          "outputs_hidden": false,
          "source_hidden": false
        },
        "nteract": {
          "transient": {
            "deleting": false
          }
        }
      }
    },
    {
      "cell_type": "code",
      "source": [
        "x = ddf.copy().drop(columns=[\"name\"])\r\n",
        "s = MinMaxScaler().fit_transform(x)\r\n",
        "n_df = pd.DataFrame(s)\r\n",
        "cl = pd.Series(class_pred.predict(n_df))\r\n",
        "y = ddf.copy()\r\n",
        "y[\"labels\"] = cl\r\n",
        "print(y[[\"name\", \"labels\"]])"
      ],
      "outputs": [
        {
          "output_type": "stream",
          "name": "stdout",
          "text": "                                              name  labels\n0                                Tahroja paperilla       0\n1                                 Levottomat Jalat       0\n2                               Vie Mut Minne Vaan       0\n3                                      Haltin häät       0\n4                             Totuutta ja tehtävää       0\n..                                             ...     ...\n141                               Elän Vain Kerran       0\n142                                          Ikävä       0\n143                         En oo käyny Irlannissa       0\n144                      Unelmia ja toimistohommia       0\n145  Mä Elän Vieläkin - Highwayman / 2006 Remaster       0\n\n[146 rows x 2 columns]\n"
        }
      ],
      "execution_count": 10,
      "metadata": {
        "jupyter": {
          "source_hidden": false,
          "outputs_hidden": false
        },
        "nteract": {
          "transient": {
            "deleting": false
          }
        },
        "gather": {
          "logged": 1649839695273
        }
      }
    },
    {
      "cell_type": "code",
      "source": [
        "new_df = pd.read_csv(\"Labelresults.csv\", index_col=0)\r\n",
        "new_df.head()"
      ],
      "outputs": [
        {
          "output_type": "execute_result",
          "execution_count": 15,
          "data": {
            "text/plain": "                                                  name  length popularity  \\\n0.0                                          RAP DEVIL  286117         68   \n1.0            Another Day in Paradise - 2016 Remaster  322133         78   \n2.0                                            Jamming  211000         77   \n3.0  Mo Money Mo Problems (feat. Puff Daddy & Mase)...  257399         79   \n4.0                              Drive - 2017 Remaster  234332         72   \n\n    acousticness danceability              energy        instrumentalness  \\\n0.0        0.217        0.895  0.8390000000000001                   3e-06   \n1.0        0.736         0.78               0.565   0.0026899999999999997   \n2.0        0.102        0.934               0.467                3.98e-05   \n3.0       0.0128        0.845               0.884  2.1000000000000002e-06   \n4.0        0.115        0.261               0.703                 0.00078   \n\n    liveness loudness          speechiness               tempo time_signature  \\\n0.0    0.239   -4.512  0.22699999999999998             149.951              4   \n1.0    0.063    -7.32               0.0306  101.96700000000001              4   \n2.0    0.109   -10.99                0.307             123.583              4   \n3.0    0.203   -4.506               0.0759             104.536              4   \n4.0    0.102   -7.871               0.0414              83.495              4   \n\n    labels  \n0.0     -1  \n1.0     -1  \n2.0     -1  \n3.0      0  \n4.0     -1  ",
            "text/html": "<div>\n<style scoped>\n    .dataframe tbody tr th:only-of-type {\n        vertical-align: middle;\n    }\n\n    .dataframe tbody tr th {\n        vertical-align: top;\n    }\n\n    .dataframe thead th {\n        text-align: right;\n    }\n</style>\n<table border=\"1\" class=\"dataframe\">\n  <thead>\n    <tr style=\"text-align: right;\">\n      <th></th>\n      <th>name</th>\n      <th>length</th>\n      <th>popularity</th>\n      <th>acousticness</th>\n      <th>danceability</th>\n      <th>energy</th>\n      <th>instrumentalness</th>\n      <th>liveness</th>\n      <th>loudness</th>\n      <th>speechiness</th>\n      <th>tempo</th>\n      <th>time_signature</th>\n      <th>labels</th>\n    </tr>\n  </thead>\n  <tbody>\n    <tr>\n      <th>0.0</th>\n      <td>RAP DEVIL</td>\n      <td>286117</td>\n      <td>68</td>\n      <td>0.217</td>\n      <td>0.895</td>\n      <td>0.8390000000000001</td>\n      <td>3e-06</td>\n      <td>0.239</td>\n      <td>-4.512</td>\n      <td>0.22699999999999998</td>\n      <td>149.951</td>\n      <td>4</td>\n      <td>-1</td>\n    </tr>\n    <tr>\n      <th>1.0</th>\n      <td>Another Day in Paradise - 2016 Remaster</td>\n      <td>322133</td>\n      <td>78</td>\n      <td>0.736</td>\n      <td>0.78</td>\n      <td>0.565</td>\n      <td>0.0026899999999999997</td>\n      <td>0.063</td>\n      <td>-7.32</td>\n      <td>0.0306</td>\n      <td>101.96700000000001</td>\n      <td>4</td>\n      <td>-1</td>\n    </tr>\n    <tr>\n      <th>2.0</th>\n      <td>Jamming</td>\n      <td>211000</td>\n      <td>77</td>\n      <td>0.102</td>\n      <td>0.934</td>\n      <td>0.467</td>\n      <td>3.98e-05</td>\n      <td>0.109</td>\n      <td>-10.99</td>\n      <td>0.307</td>\n      <td>123.583</td>\n      <td>4</td>\n      <td>-1</td>\n    </tr>\n    <tr>\n      <th>3.0</th>\n      <td>Mo Money Mo Problems (feat. Puff Daddy &amp; Mase)...</td>\n      <td>257399</td>\n      <td>79</td>\n      <td>0.0128</td>\n      <td>0.845</td>\n      <td>0.884</td>\n      <td>2.1000000000000002e-06</td>\n      <td>0.203</td>\n      <td>-4.506</td>\n      <td>0.0759</td>\n      <td>104.536</td>\n      <td>4</td>\n      <td>0</td>\n    </tr>\n    <tr>\n      <th>4.0</th>\n      <td>Drive - 2017 Remaster</td>\n      <td>234332</td>\n      <td>72</td>\n      <td>0.115</td>\n      <td>0.261</td>\n      <td>0.703</td>\n      <td>0.00078</td>\n      <td>0.102</td>\n      <td>-7.871</td>\n      <td>0.0414</td>\n      <td>83.495</td>\n      <td>4</td>\n      <td>-1</td>\n    </tr>\n  </tbody>\n</table>\n</div>"
          },
          "metadata": {}
        }
      ],
      "execution_count": 15,
      "metadata": {
        "jupyter": {
          "source_hidden": false,
          "outputs_hidden": false
        },
        "nteract": {
          "transient": {
            "deleting": false
          }
        },
        "gather": {
          "logged": 1649840448869
        }
      }
    },
    {
      "cell_type": "code",
      "source": [
        "song = input(\"Give a song you want to compare:\" )\r\n",
        "label = y.loc[y[\"name\"] == song][\"labels\"]\r\n",
        "label = label.values[0]\r\n",
        "print(\"Lets check out some song with similar characteristics for the label \", label, \"!\")\r\n",
        "print(new_df[new_df[\"labels\"] == 0])"
      ],
      "outputs": [
        {
          "output_type": "stream",
          "name": "stdout",
          "text": "Lets check out some song with similar characteristics for the label  0 !\nEmpty DataFrame\nColumns: [name, length, popularity, acousticness, danceability, energy, instrumentalness, liveness, loudness, speechiness, tempo, time_signature, labels]\nIndex: []\n"
        }
      ],
      "execution_count": 27,
      "metadata": {
        "jupyter": {
          "source_hidden": false,
          "outputs_hidden": false
        },
        "nteract": {
          "transient": {
            "deleting": false
          }
        },
        "gather": {
          "logged": 1649840827989
        }
      }
    }
  ],
  "metadata": {
    "kernel_info": {
      "name": "python38-azureml"
    },
    "kernelspec": {
      "name": "python38-azureml",
      "language": "python",
      "display_name": "Python 3.8 - AzureML"
    },
    "language_info": {
      "name": "python",
      "version": "3.8.1",
      "mimetype": "text/x-python",
      "codemirror_mode": {
        "name": "ipython",
        "version": 3
      },
      "pygments_lexer": "ipython3",
      "nbconvert_exporter": "python",
      "file_extension": ".py"
    },
    "microsoft": {
      "host": {
        "AzureML": {
          "notebookHasBeenCompleted": true
        }
      }
    },
    "nteract": {
      "version": "nteract-front-end@1.0.0"
    }
  },
  "nbformat": 4,
  "nbformat_minor": 4
}