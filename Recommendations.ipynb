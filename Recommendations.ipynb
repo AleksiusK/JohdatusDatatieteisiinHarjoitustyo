{
 "cells": [
  {
   "cell_type": "markdown",
   "metadata": {
    "gather": {
     "logged": 1649839598191
    }
   },
   "source": [
    "# Recommendations algorithm\n",
    "\n",
    "Now that we have our ML model saved (The birch.obj file), we can move on to creating recommendations based on the user's playlist.\n",
    "\n",
    "The system works by at first getting the playlist we want to inspect, using the trained BIRCH- model to generate clusters and then comparing them to the dataset we saved (tracdata_clustered.csv).\n",
    "It gets the songs wich would have been in the same cluster, and then randomly pics five recommendations for the user. The user then has to add the recommended songs by themself to the playlist."
   ]
  },
  {
   "cell_type": "code",
   "execution_count": 19,
   "metadata": {},
   "outputs": [],
   "source": [
    "## Get all libraries needed\n",
    "from requests import Timeout\n",
    "from sklearn.preprocessing import StandardScaler\n",
    "import matplotlib.pyplot as plt\n",
    "import pandas as pd\n",
    "import numpy as np\n",
    "import spotipy as spy\n",
    "import pickle\n",
    "import csv"
   ]
  },
  {
   "cell_type": "code",
   "execution_count": 6,
   "metadata": {
    "collapsed": false,
    "gather": {
     "logged": 1649839599853
    },
    "jupyter": {
     "outputs_hidden": false,
     "source_hidden": false
    },
    "nteract": {
     "transient": {
      "deleting": false
     }
    }
   },
   "outputs": [],
   "source": [
    "## Again, as we will be using the spotify API, we need to get the secret\n",
    "## This time, we will use a burner secret\n",
    "## This will be only in use for couple of weeks\n",
    "client_s = '0c4d44681c9f4a3fbf82594a6308b6af'\n",
    "client_id = 'bd889025bc034cadab61bc6a169617b4'"
   ]
  },
  {
   "cell_type": "code",
   "execution_count": 7,
   "metadata": {
    "collapsed": false,
    "gather": {
     "logged": 1649839602660
    },
    "jupyter": {
     "outputs_hidden": false,
     "source_hidden": false
    },
    "nteract": {
     "transient": {
      "deleting": false
     }
    }
   },
   "outputs": [],
   "source": [
    "## Initialize the credentials manager\n",
    "credentials_manager = spy.oauth2.SpotifyClientCredentials(client_id, client_s)\n",
    "sp = spy.Spotify(client_credentials_manager=credentials_manager)"
   ]
  },
  {
   "cell_type": "code",
   "execution_count": 4,
   "metadata": {
    "collapsed": false,
    "gather": {
     "logged": 1649839645655
    },
    "jupyter": {
     "outputs_hidden": false,
     "source_hidden": false
    },
    "nteract": {
     "transient": {
      "deleting": false
     }
    }
   },
   "outputs": [
    {
     "name": "stdin",
     "output_type": "stream",
     "text": [
      "Enter URL for the PUBLIC playlist you want to inspect:  https://open.spotify.com/playlist/4b9mSnY53QnAf6KxFffw2h\n",
      "Enter the username of the playlist's owner:  Riku Tuukkala\n"
     ]
    }
   ],
   "source": [
    "## Get the playlist we want to inspect\n",
    "url = input(\"Enter URL for the PUBLIC playlist you want to inspect: \")\n",
    "user = input(\"Enter the username of the playlist's owner: \")\n",
    "splitted = url.split(\"/\")\n",
    "URI = splitted[len(splitted)-1]"
   ]
  },
  {
   "cell_type": "code",
   "execution_count": 8,
   "metadata": {
    "collapsed": false,
    "gather": {
     "logged": 1649839648814
    },
    "jupyter": {
     "outputs_hidden": false,
     "source_hidden": false
    },
    "nteract": {
     "transient": {
      "deleting": false
     }
    }
   },
   "outputs": [],
   "source": [
    "##Same as before, get the ID's from the playlist as we can't straightup get the data\n",
    "pl_t = sp.user_playlist_tracks(user, URI)\n",
    "tmp = pl_t['items']\n",
    "ids = []\n",
    "while pl_t['next']:\n",
    "    pl_t = sp.next(pl_t)\n",
    "    tmp.extend(pl_t['items'])\n",
    "    for s in tmp:\n",
    "        ids.append(s[\"track\"][\"id\"])"
   ]
  },
  {
   "cell_type": "code",
   "execution_count": 9,
   "metadata": {
    "collapsed": false,
    "gather": {
     "logged": 1649839652027
    },
    "jupyter": {
     "outputs_hidden": false,
     "source_hidden": false
    },
    "nteract": {
     "transient": {
      "deleting": false
     }
    }
   },
   "outputs": [
    {
     "name": "stdout",
     "output_type": "stream",
     "text": [
      "154\n",
      "Duplicates found, 2 rows cleaned.\n",
      "152\n"
     ]
    }
   ],
   "source": [
    "## Remove duplicates\n",
    "i = len(ids)\n",
    "print(i)\n",
    "if len(ids) != len(set(ids)):\n",
    "    ids = list(set(ids))\n",
    "    print(\"Duplicates found, {} rows cleaned.\".format(i-len(ids)))\n",
    "    print(len(ids))\n",
    "else:\n",
    "    print(\"No duplicates\")"
   ]
  },
  {
   "cell_type": "code",
   "execution_count": 10,
   "metadata": {
    "collapsed": false,
    "gather": {
     "logged": 1649839681096
    },
    "jupyter": {
     "outputs_hidden": false,
     "source_hidden": false
    },
    "nteract": {
     "transient": {
      "deleting": false
     }
    }
   },
   "outputs": [
    {
     "data": {
      "text/html": [
       "<div>\n",
       "<style scoped>\n",
       "    .dataframe tbody tr th:only-of-type {\n",
       "        vertical-align: middle;\n",
       "    }\n",
       "\n",
       "    .dataframe tbody tr th {\n",
       "        vertical-align: top;\n",
       "    }\n",
       "\n",
       "    .dataframe thead th {\n",
       "        text-align: right;\n",
       "    }\n",
       "</style>\n",
       "<table border=\"1\" class=\"dataframe\">\n",
       "  <thead>\n",
       "    <tr style=\"text-align: right;\">\n",
       "      <th></th>\n",
       "      <th>name</th>\n",
       "      <th>length</th>\n",
       "      <th>popularity</th>\n",
       "      <th>acousticness</th>\n",
       "      <th>danceability</th>\n",
       "      <th>energy</th>\n",
       "      <th>instrumentalness</th>\n",
       "      <th>liveness</th>\n",
       "      <th>loudness</th>\n",
       "      <th>speechiness</th>\n",
       "      <th>tempo</th>\n",
       "      <th>time_signiature</th>\n",
       "    </tr>\n",
       "  </thead>\n",
       "  <tbody>\n",
       "    <tr>\n",
       "      <th>0</th>\n",
       "      <td>Viisaus ei asu meissä</td>\n",
       "      <td>188440</td>\n",
       "      <td>28</td>\n",
       "      <td>0.000178</td>\n",
       "      <td>0.610</td>\n",
       "      <td>0.973</td>\n",
       "      <td>0.000000</td>\n",
       "      <td>0.0278</td>\n",
       "      <td>-4.435</td>\n",
       "      <td>0.1480</td>\n",
       "      <td>133.014</td>\n",
       "      <td>4</td>\n",
       "    </tr>\n",
       "    <tr>\n",
       "      <th>1</th>\n",
       "      <td>Laura Jenna Ellinoora Alexandra Camilla Jurvanen</td>\n",
       "      <td>176133</td>\n",
       "      <td>40</td>\n",
       "      <td>0.046200</td>\n",
       "      <td>0.680</td>\n",
       "      <td>0.744</td>\n",
       "      <td>0.000000</td>\n",
       "      <td>0.2010</td>\n",
       "      <td>-8.547</td>\n",
       "      <td>0.0314</td>\n",
       "      <td>112.596</td>\n",
       "      <td>4</td>\n",
       "    </tr>\n",
       "    <tr>\n",
       "      <th>2</th>\n",
       "      <td>Lähtisitkö</td>\n",
       "      <td>274266</td>\n",
       "      <td>42</td>\n",
       "      <td>0.008840</td>\n",
       "      <td>0.644</td>\n",
       "      <td>0.677</td>\n",
       "      <td>0.000013</td>\n",
       "      <td>0.0601</td>\n",
       "      <td>-6.493</td>\n",
       "      <td>0.0320</td>\n",
       "      <td>91.218</td>\n",
       "      <td>4</td>\n",
       "    </tr>\n",
       "    <tr>\n",
       "      <th>3</th>\n",
       "      <td>Kaljaa ainiaan</td>\n",
       "      <td>190876</td>\n",
       "      <td>29</td>\n",
       "      <td>0.066000</td>\n",
       "      <td>0.560</td>\n",
       "      <td>0.794</td>\n",
       "      <td>0.000000</td>\n",
       "      <td>0.0352</td>\n",
       "      <td>-5.040</td>\n",
       "      <td>0.0266</td>\n",
       "      <td>133.154</td>\n",
       "      <td>4</td>\n",
       "    </tr>\n",
       "    <tr>\n",
       "      <th>4</th>\n",
       "      <td>Syksyn Sävel</td>\n",
       "      <td>212666</td>\n",
       "      <td>41</td>\n",
       "      <td>0.483000</td>\n",
       "      <td>0.528</td>\n",
       "      <td>0.513</td>\n",
       "      <td>0.071900</td>\n",
       "      <td>0.1120</td>\n",
       "      <td>-9.598</td>\n",
       "      <td>0.0288</td>\n",
       "      <td>126.108</td>\n",
       "      <td>4</td>\n",
       "    </tr>\n",
       "  </tbody>\n",
       "</table>\n",
       "</div>"
      ],
      "text/plain": [
       "                                               name  length  popularity  \\\n",
       "0                             Viisaus ei asu meissä  188440          28   \n",
       "1  Laura Jenna Ellinoora Alexandra Camilla Jurvanen  176133          40   \n",
       "2                                        Lähtisitkö  274266          42   \n",
       "3                                    Kaljaa ainiaan  190876          29   \n",
       "4                                      Syksyn Sävel  212666          41   \n",
       "\n",
       "   acousticness  danceability  energy  instrumentalness  liveness  loudness  \\\n",
       "0      0.000178         0.610   0.973          0.000000    0.0278    -4.435   \n",
       "1      0.046200         0.680   0.744          0.000000    0.2010    -8.547   \n",
       "2      0.008840         0.644   0.677          0.000013    0.0601    -6.493   \n",
       "3      0.066000         0.560   0.794          0.000000    0.0352    -5.040   \n",
       "4      0.483000         0.528   0.513          0.071900    0.1120    -9.598   \n",
       "\n",
       "   speechiness    tempo  time_signiature  \n",
       "0       0.1480  133.014                4  \n",
       "1       0.0314  112.596                4  \n",
       "2       0.0320   91.218                4  \n",
       "3       0.0266  133.154                4  \n",
       "4       0.0288  126.108                4  "
      ]
     },
     "execution_count": 10,
     "metadata": {},
     "output_type": "execute_result"
    }
   ],
   "source": [
    "## Add the data to a dataframe\n",
    "## As we saw before, if there is a ton of data, it will take a while to complete.\n",
    "di = {\"name\": [], \"length\": [], \"popularity\": [], \"acousticness\": [], \"danceability\": [], \n",
    "\"energy\": [], \"instrumentalness\": [], \"liveness\": [], \"loudness\": [], \"speechiness\": [],\n",
    "\"tempo\": [], \"time_signiature\": []}\n",
    "\n",
    "for i in range(len(ids)):\n",
    "    try:\n",
    "        metadata = sp.track(ids[i])\n",
    "        features = sp.audio_features(ids[i])\n",
    "        di[\"name\"].append(metadata['name'])\n",
    "        di['length'].append(metadata['duration_ms'])\n",
    "        di['popularity'].append(metadata['popularity'])\n",
    "            \n",
    "        di['acousticness'].append(features[0]['acousticness'])\n",
    "        di['danceability'].append(features[0]['danceability'])\n",
    "        di['energy'].append(features[0]['energy'])\n",
    "        di['instrumentalness'].append(features[0]['instrumentalness'])\n",
    "        di['liveness'].append(features[0]['liveness'])\n",
    "        di['loudness'].append(features[0]['loudness'])\n",
    "        di['speechiness'].append(features[0]['speechiness'])\n",
    "        di['tempo'].append(features[0]['tempo'])\n",
    "        di['time_signiature'].append(features[0]['time_signature'])\n",
    "    except spy.SpotifyException:\n",
    "        print(\"Spotify error at id\", ids[i])\n",
    "    except Timeout:\n",
    "        print(\"API not responding, trying again.\")\n",
    "        if (i >= 1):\n",
    "            i = i - 1\n",
    "        else:\n",
    "            i = 0\n",
    "        continue\n",
    "ddf = pd.DataFrame(di)\n",
    "## Check out what the data looks like\n",
    "ddf.head()\n",
    "     "
   ]
  },
  {
   "cell_type": "code",
   "execution_count": 20,
   "metadata": {},
   "outputs": [
    {
     "data": {
      "text/html": [
       "<div>\n",
       "<style scoped>\n",
       "    .dataframe tbody tr th:only-of-type {\n",
       "        vertical-align: middle;\n",
       "    }\n",
       "\n",
       "    .dataframe tbody tr th {\n",
       "        vertical-align: top;\n",
       "    }\n",
       "\n",
       "    .dataframe thead th {\n",
       "        text-align: right;\n",
       "    }\n",
       "</style>\n",
       "<table border=\"1\" class=\"dataframe\">\n",
       "  <thead>\n",
       "    <tr style=\"text-align: right;\">\n",
       "      <th></th>\n",
       "      <th>popularity</th>\n",
       "      <th>acousticness</th>\n",
       "      <th>danceability</th>\n",
       "      <th>energy</th>\n",
       "      <th>liveness</th>\n",
       "      <th>loudness</th>\n",
       "      <th>tempo</th>\n",
       "    </tr>\n",
       "  </thead>\n",
       "  <tbody>\n",
       "    <tr>\n",
       "      <th>count</th>\n",
       "      <td>152.00</td>\n",
       "      <td>152.00</td>\n",
       "      <td>152.00</td>\n",
       "      <td>152.00</td>\n",
       "      <td>152.00</td>\n",
       "      <td>152.00</td>\n",
       "      <td>152.00</td>\n",
       "    </tr>\n",
       "    <tr>\n",
       "      <th>mean</th>\n",
       "      <td>37.10</td>\n",
       "      <td>0.19</td>\n",
       "      <td>0.57</td>\n",
       "      <td>0.68</td>\n",
       "      <td>0.19</td>\n",
       "      <td>-8.28</td>\n",
       "      <td>126.63</td>\n",
       "    </tr>\n",
       "    <tr>\n",
       "      <th>std</th>\n",
       "      <td>7.77</td>\n",
       "      <td>0.23</td>\n",
       "      <td>0.11</td>\n",
       "      <td>0.17</td>\n",
       "      <td>0.13</td>\n",
       "      <td>3.25</td>\n",
       "      <td>27.88</td>\n",
       "    </tr>\n",
       "    <tr>\n",
       "      <th>min</th>\n",
       "      <td>0.00</td>\n",
       "      <td>0.00</td>\n",
       "      <td>0.31</td>\n",
       "      <td>0.08</td>\n",
       "      <td>0.03</td>\n",
       "      <td>-21.66</td>\n",
       "      <td>61.41</td>\n",
       "    </tr>\n",
       "    <tr>\n",
       "      <th>25%</th>\n",
       "      <td>34.00</td>\n",
       "      <td>0.02</td>\n",
       "      <td>0.50</td>\n",
       "      <td>0.59</td>\n",
       "      <td>0.08</td>\n",
       "      <td>-10.28</td>\n",
       "      <td>104.96</td>\n",
       "    </tr>\n",
       "    <tr>\n",
       "      <th>50%</th>\n",
       "      <td>39.00</td>\n",
       "      <td>0.08</td>\n",
       "      <td>0.58</td>\n",
       "      <td>0.69</td>\n",
       "      <td>0.15</td>\n",
       "      <td>-7.68</td>\n",
       "      <td>126.71</td>\n",
       "    </tr>\n",
       "    <tr>\n",
       "      <th>75%</th>\n",
       "      <td>42.00</td>\n",
       "      <td>0.28</td>\n",
       "      <td>0.65</td>\n",
       "      <td>0.80</td>\n",
       "      <td>0.26</td>\n",
       "      <td>-5.80</td>\n",
       "      <td>141.12</td>\n",
       "    </tr>\n",
       "    <tr>\n",
       "      <th>max</th>\n",
       "      <td>53.00</td>\n",
       "      <td>0.92</td>\n",
       "      <td>0.80</td>\n",
       "      <td>0.99</td>\n",
       "      <td>0.79</td>\n",
       "      <td>-2.81</td>\n",
       "      <td>204.42</td>\n",
       "    </tr>\n",
       "  </tbody>\n",
       "</table>\n",
       "</div>"
      ],
      "text/plain": [
       "       popularity  acousticness  danceability  energy  liveness  loudness  \\\n",
       "count      152.00        152.00        152.00  152.00    152.00    152.00   \n",
       "mean        37.10          0.19          0.57    0.68      0.19     -8.28   \n",
       "std          7.77          0.23          0.11    0.17      0.13      3.25   \n",
       "min          0.00          0.00          0.31    0.08      0.03    -21.66   \n",
       "25%         34.00          0.02          0.50    0.59      0.08    -10.28   \n",
       "50%         39.00          0.08          0.58    0.69      0.15     -7.68   \n",
       "75%         42.00          0.28          0.65    0.80      0.26     -5.80   \n",
       "max         53.00          0.92          0.80    0.99      0.79     -2.81   \n",
       "\n",
       "        tempo  \n",
       "count  152.00  \n",
       "mean   126.63  \n",
       "std     27.88  \n",
       "min     61.41  \n",
       "25%    104.96  \n",
       "50%    126.71  \n",
       "75%    141.12  \n",
       "max    204.42  "
      ]
     },
     "execution_count": 20,
     "metadata": {},
     "output_type": "execute_result"
    }
   ],
   "source": [
    "## Clean the data as we did before\n",
    "Adf = ddf.copy().drop(columns=[\"time_signiature\", \"name\", \"instrumentalness\", \"length\", \"speechiness\"])\n",
    "round(Adf[Adf.columns].describe(), 2)"
   ]
  },
  {
   "cell_type": "code",
   "execution_count": null,
   "metadata": {},
   "outputs": [],
   "source": [
    "## Inspect the data some more to get a better feeling what it is made of\n",
    "hist = Adf.hist(figsize(16, 18))\n",
    "hist"
   ]
  },
  {
   "cell_type": "code",
   "execution_count": 21,
   "metadata": {},
   "outputs": [
    {
     "data": {
      "text/html": [
       "<div>\n",
       "<style scoped>\n",
       "    .dataframe tbody tr th:only-of-type {\n",
       "        vertical-align: middle;\n",
       "    }\n",
       "\n",
       "    .dataframe tbody tr th {\n",
       "        vertical-align: top;\n",
       "    }\n",
       "\n",
       "    .dataframe thead th {\n",
       "        text-align: right;\n",
       "    }\n",
       "</style>\n",
       "<table border=\"1\" class=\"dataframe\">\n",
       "  <thead>\n",
       "    <tr style=\"text-align: right;\">\n",
       "      <th></th>\n",
       "      <th>popularity</th>\n",
       "      <th>acousticness</th>\n",
       "      <th>danceability</th>\n",
       "      <th>energy</th>\n",
       "      <th>liveness</th>\n",
       "      <th>loudness</th>\n",
       "      <th>tempo</th>\n",
       "    </tr>\n",
       "  </thead>\n",
       "  <tbody>\n",
       "    <tr>\n",
       "      <th>0</th>\n",
       "      <td>-1.174924</td>\n",
       "      <td>-0.820709</td>\n",
       "      <td>0.313542</td>\n",
       "      <td>1.748131</td>\n",
       "      <td>-1.201371</td>\n",
       "      <td>1.186872</td>\n",
       "      <td>0.229775</td>\n",
       "    </tr>\n",
       "    <tr>\n",
       "      <th>1</th>\n",
       "      <td>0.374650</td>\n",
       "      <td>-0.620875</td>\n",
       "      <td>0.930535</td>\n",
       "      <td>0.382905</td>\n",
       "      <td>0.096472</td>\n",
       "      <td>-0.082478</td>\n",
       "      <td>-0.504909</td>\n",
       "    </tr>\n",
       "    <tr>\n",
       "      <th>2</th>\n",
       "      <td>0.632913</td>\n",
       "      <td>-0.783098</td>\n",
       "      <td>0.613224</td>\n",
       "      <td>-0.016528</td>\n",
       "      <td>-0.959337</td>\n",
       "      <td>0.551580</td>\n",
       "      <td>-1.274136</td>\n",
       "    </tr>\n",
       "    <tr>\n",
       "      <th>3</th>\n",
       "      <td>-1.045793</td>\n",
       "      <td>-0.534901</td>\n",
       "      <td>-0.127168</td>\n",
       "      <td>0.680989</td>\n",
       "      <td>-1.145921</td>\n",
       "      <td>1.000112</td>\n",
       "      <td>0.234813</td>\n",
       "    </tr>\n",
       "    <tr>\n",
       "      <th>4</th>\n",
       "      <td>0.503781</td>\n",
       "      <td>1.275773</td>\n",
       "      <td>-0.409222</td>\n",
       "      <td>-0.994244</td>\n",
       "      <td>-0.570434</td>\n",
       "      <td>-0.406916</td>\n",
       "      <td>-0.018718</td>\n",
       "    </tr>\n",
       "  </tbody>\n",
       "</table>\n",
       "</div>"
      ],
      "text/plain": [
       "   popularity  acousticness  danceability    energy  liveness  loudness  \\\n",
       "0   -1.174924     -0.820709      0.313542  1.748131 -1.201371  1.186872   \n",
       "1    0.374650     -0.620875      0.930535  0.382905  0.096472 -0.082478   \n",
       "2    0.632913     -0.783098      0.613224 -0.016528 -0.959337  0.551580   \n",
       "3   -1.045793     -0.534901     -0.127168  0.680989 -1.145921  1.000112   \n",
       "4    0.503781      1.275773     -0.409222 -0.994244 -0.570434 -0.406916   \n",
       "\n",
       "      tempo  \n",
       "0  0.229775  \n",
       "1 -0.504909  \n",
       "2 -1.274136  \n",
       "3  0.234813  \n",
       "4 -0.018718  "
      ]
     },
     "execution_count": 21,
     "metadata": {},
     "output_type": "execute_result"
    }
   ],
   "source": [
    "##Scale the data with standard scaler\n",
    "columns_ = Adf.columns\n",
    "scaled = StandardScaler().fit_transform(Adf.to_numpy())\n",
    "sDF = pd.DataFrame(scaled, columns=columns_)\n",
    "sDF.head()"
   ]
  },
  {
   "cell_type": "code",
   "execution_count": 22,
   "metadata": {
    "collapsed": false,
    "gather": {
     "logged": 1649839686710
    },
    "jupyter": {
     "outputs_hidden": false,
     "source_hidden": false
    },
    "nteract": {
     "transient": {
      "deleting": false
     }
    }
   },
   "outputs": [
    {
     "name": "stderr",
     "output_type": "stream",
     "text": [
      "c:\\users\\aleks\\appdata\\local\\programs\\python\\python39\\lib\\site-packages\\sklearn\\base.py:310: UserWarning: Trying to unpickle estimator Birch from version 0.22.2.post1 when using version 0.24.2. This might lead to breaking code or invalid results. Use at your own risk.\n",
      "  warnings.warn(\n"
     ]
    }
   ],
   "source": [
    "## Get the BIRCH- model we created\n",
    "birch = pickle.load(open(\"birch.obj\", \"rb\"))"
   ]
  },
  {
   "cell_type": "code",
   "execution_count": 23,
   "metadata": {
    "collapsed": false,
    "gather": {
     "logged": 1649839689241
    },
    "jupyter": {
     "outputs_hidden": false,
     "source_hidden": false
    },
    "nteract": {
     "transient": {
      "deleting": false
     }
    }
   },
   "outputs": [
    {
     "name": "stdout",
     "output_type": "stream",
     "text": [
      "Mean: 42.03947368421053\n",
      "Median: 39.5\n",
      "Standard deviation: 29.35263853892314\n"
     ]
    }
   ],
   "source": [
    "## Get the labels and some information about their distribution\n",
    "labels = birch.predict(sDF.to_numpy())\n",
    "## Get the most frequent label in the array and use it as a basis of the recommendations\n",
    "most_freq = np.argmax(np.bincount(labels))\n",
    "analysis = [np.mean(labels), np.median(labels), np.std(labels)]\n",
    "print(\"Mean: {}\".format(analysis[0]))\n",
    "print(\"Median: {}\".format(analysis[1]))\n",
    "print(\"Standard deviation: {}\".format(analysis[2]))"
   ]
  },
  {
   "cell_type": "code",
   "execution_count": 25,
   "metadata": {
    "collapsed": false,
    "gather": {
     "logged": 1649840448869
    },
    "jupyter": {
     "outputs_hidden": false,
     "source_hidden": false
    },
    "nteract": {
     "transient": {
      "deleting": false
     }
    }
   },
   "outputs": [
    {
     "data": {
      "text/html": [
       "<div>\n",
       "<style scoped>\n",
       "    .dataframe tbody tr th:only-of-type {\n",
       "        vertical-align: middle;\n",
       "    }\n",
       "\n",
       "    .dataframe tbody tr th {\n",
       "        vertical-align: top;\n",
       "    }\n",
       "\n",
       "    .dataframe thead th {\n",
       "        text-align: right;\n",
       "    }\n",
       "</style>\n",
       "<table border=\"1\" class=\"dataframe\">\n",
       "  <thead>\n",
       "    <tr style=\"text-align: right;\">\n",
       "      <th></th>\n",
       "      <th>name</th>\n",
       "      <th>clusters</th>\n",
       "    </tr>\n",
       "  </thead>\n",
       "  <tbody>\n",
       "    <tr>\n",
       "      <th>0</th>\n",
       "      <td>Major Minus</td>\n",
       "      <td>40</td>\n",
       "    </tr>\n",
       "    <tr>\n",
       "      <th>1</th>\n",
       "      <td>Kings And Queens</td>\n",
       "      <td>47</td>\n",
       "    </tr>\n",
       "    <tr>\n",
       "      <th>2</th>\n",
       "      <td>Tainted Love</td>\n",
       "      <td>50</td>\n",
       "    </tr>\n",
       "    <tr>\n",
       "      <th>3</th>\n",
       "      <td>Portal</td>\n",
       "      <td>75</td>\n",
       "    </tr>\n",
       "    <tr>\n",
       "      <th>4</th>\n",
       "      <td>Day One</td>\n",
       "      <td>26</td>\n",
       "    </tr>\n",
       "  </tbody>\n",
       "</table>\n",
       "</div>"
      ],
      "text/plain": [
       "               name  clusters\n",
       "0       Major Minus        40\n",
       "1  Kings And Queens        47\n",
       "2      Tainted Love        50\n",
       "3            Portal        75\n",
       "4           Day One        26"
      ]
     },
     "execution_count": 25,
     "metadata": {},
     "output_type": "execute_result"
    }
   ],
   "source": [
    "## Get the stored data for generating the recommendations\n",
    "comparison = pd.read_csv(\"Datasets/tracks_clustered.csv\")\n",
    "comparison = comparison[[\"name\", \"clusters\"]]\n",
    "comparison.head()"
   ]
  },
  {
   "cell_type": "markdown",
   "metadata": {},
   "source": [
    "# The Recommendaitons\n",
    "\n",
    "In the cell below, you can see what songs the algorithm recommends you to add."
   ]
  },
  {
   "cell_type": "code",
   "execution_count": 26,
   "metadata": {
    "collapsed": false,
    "gather": {
     "logged": 1649840827989
    },
    "jupyter": {
     "outputs_hidden": false,
     "source_hidden": false
    },
    "nteract": {
     "transient": {
      "deleting": false
     }
    }
   },
   "outputs": [
    {
     "data": {
      "text/html": [
       "<div>\n",
       "<style scoped>\n",
       "    .dataframe tbody tr th:only-of-type {\n",
       "        vertical-align: middle;\n",
       "    }\n",
       "\n",
       "    .dataframe tbody tr th {\n",
       "        vertical-align: top;\n",
       "    }\n",
       "\n",
       "    .dataframe thead th {\n",
       "        text-align: right;\n",
       "    }\n",
       "</style>\n",
       "<table border=\"1\" class=\"dataframe\">\n",
       "  <thead>\n",
       "    <tr style=\"text-align: right;\">\n",
       "      <th></th>\n",
       "      <th>name</th>\n",
       "    </tr>\n",
       "  </thead>\n",
       "  <tbody>\n",
       "    <tr>\n",
       "      <th>6847</th>\n",
       "      <td>Tear You Apart</td>\n",
       "    </tr>\n",
       "    <tr>\n",
       "      <th>338</th>\n",
       "      <td>Jesus' Tod</td>\n",
       "    </tr>\n",
       "    <tr>\n",
       "      <th>3189</th>\n",
       "      <td>First</td>\n",
       "    </tr>\n",
       "    <tr>\n",
       "      <th>3403</th>\n",
       "      <td>Back Then</td>\n",
       "    </tr>\n",
       "    <tr>\n",
       "      <th>6365</th>\n",
       "      <td>Champagne Showers</td>\n",
       "    </tr>\n",
       "  </tbody>\n",
       "</table>\n",
       "</div>"
      ],
      "text/plain": [
       "                   name\n",
       "6847     Tear You Apart\n",
       "338          Jesus' Tod\n",
       "3189              First\n",
       "3403          Back Then\n",
       "6365  Champagne Showers"
      ]
     },
     "execution_count": 26,
     "metadata": {},
     "output_type": "execute_result"
    }
   ],
   "source": [
    "## Finally, get randomly five songs from the same cluster as recommendations\n",
    "mDF = pd.DataFrame(comparison.loc[comparison[\"clusters\"] == most_freq], columns=[\"name\"])\n",
    "mDF = mDF.sample(n=5)\n",
    "mDF"
   ]
  },
  {
   "cell_type": "markdown",
   "metadata": {},
   "source": [
    "# The results\n",
    "\n",
    "As we can see from the cell above, our system now gets some rough recommendations for the user. The quality of recommendations depends on the quality of the Birch ML model we trained earlier.\n",
    "We could now using spotipy add the songs listed to the playlist, run the algorithm again, and continue adding more and more songs. The user at this point however needs to add the songs manually.\n",
    "This is done because of our limited amount of songs to recommend and their type. For example, if you'r playlist consists of only a specific, niche-type music, we end up recommending songs that would,\n",
    "in theory, fit the playlist but could still be in different language.\n",
    "\n",
    "The quality of training data does affect our possibility to recommend songs greatly. The best results could be achieved by also getting the language of the songs as well as their genre, but currently spotify's API does not allow this. "
   ]
  },
  {
   "cell_type": "code",
   "execution_count": null,
   "metadata": {},
   "outputs": [],
   "source": []
  }
 ],
 "metadata": {
  "kernel_info": {
   "name": "python38-azureml"
  },
  "kernelspec": {
   "display_name": "Python 3 (ipykernel)",
   "language": "python",
   "name": "python3"
  },
  "language_info": {
   "codemirror_mode": {
    "name": "ipython",
    "version": 3
   },
   "file_extension": ".py",
   "mimetype": "text/x-python",
   "name": "python",
   "nbconvert_exporter": "python",
   "pygments_lexer": "ipython3",
   "version": "3.9.6"
  },
  "microsoft": {
   "host": {
    "AzureML": {
     "notebookHasBeenCompleted": true
    }
   }
  },
  "nteract": {
   "version": "nteract-front-end@1.0.0"
  }
 },
 "nbformat": 4,
 "nbformat_minor": 4
}
