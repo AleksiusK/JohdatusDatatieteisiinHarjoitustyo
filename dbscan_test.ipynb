{
  "cells": [
    {
      "cell_type": "code",
      "source": [
        "import pandas as pd\n",
        "from sklearn.cluster import DBSCAN\n",
        "from sklearn.preprocessing import MinMaxScaler\n",
        "import matplotlib.pyplot as plt\n",
        "import seaborn as sns\n",
        "from sklearn.decomposition import PCA"
      ],
      "outputs": [],
      "execution_count": 85,
      "metadata": {
        "gather": {
          "logged": 1649064234330
        }
      }
    },
    {
      "cell_type": "code",
      "source": [
        "dft = pd.read_csv('trackdata.csv')\r\n",
        "dft.head()"
      ],
      "outputs": [
        {
          "output_type": "execute_result",
          "execution_count": 86,
          "data": {
            "text/plain": "                                                name  length  popularity  \\\n0                                          RAP DEVIL  286117          68   \n1            Another Day in Paradise - 2016 Remaster  322133          78   \n2                                            Jamming  211000          77   \n3  Mo Money Mo Problems (feat. Puff Daddy & Mase)...  257399          79   \n4                              Drive - 2017 Remaster  234332          72   \n\n   acousticness  danceability  energy  instrumentalness  liveness  loudness  \\\n0        0.2170         0.895   0.839          0.000003     0.239    -4.512   \n1        0.7360         0.780   0.565          0.002690     0.063    -7.320   \n2        0.1020         0.934   0.467          0.000040     0.109   -10.990   \n3        0.0128         0.845   0.884          0.000002     0.203    -4.506   \n4        0.1150         0.261   0.703          0.000780     0.102    -7.871   \n\n   speechiness    tempo  time_signature  \n0       0.2270  149.951               4  \n1       0.0306  101.967               4  \n2       0.3070  123.583               4  \n3       0.0759  104.536               4  \n4       0.0414   83.495               4  ",
            "text/html": "<div>\n<style scoped>\n    .dataframe tbody tr th:only-of-type {\n        vertical-align: middle;\n    }\n\n    .dataframe tbody tr th {\n        vertical-align: top;\n    }\n\n    .dataframe thead th {\n        text-align: right;\n    }\n</style>\n<table border=\"1\" class=\"dataframe\">\n  <thead>\n    <tr style=\"text-align: right;\">\n      <th></th>\n      <th>name</th>\n      <th>length</th>\n      <th>popularity</th>\n      <th>acousticness</th>\n      <th>danceability</th>\n      <th>energy</th>\n      <th>instrumentalness</th>\n      <th>liveness</th>\n      <th>loudness</th>\n      <th>speechiness</th>\n      <th>tempo</th>\n      <th>time_signature</th>\n    </tr>\n  </thead>\n  <tbody>\n    <tr>\n      <th>0</th>\n      <td>RAP DEVIL</td>\n      <td>286117</td>\n      <td>68</td>\n      <td>0.2170</td>\n      <td>0.895</td>\n      <td>0.839</td>\n      <td>0.000003</td>\n      <td>0.239</td>\n      <td>-4.512</td>\n      <td>0.2270</td>\n      <td>149.951</td>\n      <td>4</td>\n    </tr>\n    <tr>\n      <th>1</th>\n      <td>Another Day in Paradise - 2016 Remaster</td>\n      <td>322133</td>\n      <td>78</td>\n      <td>0.7360</td>\n      <td>0.780</td>\n      <td>0.565</td>\n      <td>0.002690</td>\n      <td>0.063</td>\n      <td>-7.320</td>\n      <td>0.0306</td>\n      <td>101.967</td>\n      <td>4</td>\n    </tr>\n    <tr>\n      <th>2</th>\n      <td>Jamming</td>\n      <td>211000</td>\n      <td>77</td>\n      <td>0.1020</td>\n      <td>0.934</td>\n      <td>0.467</td>\n      <td>0.000040</td>\n      <td>0.109</td>\n      <td>-10.990</td>\n      <td>0.3070</td>\n      <td>123.583</td>\n      <td>4</td>\n    </tr>\n    <tr>\n      <th>3</th>\n      <td>Mo Money Mo Problems (feat. Puff Daddy &amp; Mase)...</td>\n      <td>257399</td>\n      <td>79</td>\n      <td>0.0128</td>\n      <td>0.845</td>\n      <td>0.884</td>\n      <td>0.000002</td>\n      <td>0.203</td>\n      <td>-4.506</td>\n      <td>0.0759</td>\n      <td>104.536</td>\n      <td>4</td>\n    </tr>\n    <tr>\n      <th>4</th>\n      <td>Drive - 2017 Remaster</td>\n      <td>234332</td>\n      <td>72</td>\n      <td>0.1150</td>\n      <td>0.261</td>\n      <td>0.703</td>\n      <td>0.000780</td>\n      <td>0.102</td>\n      <td>-7.871</td>\n      <td>0.0414</td>\n      <td>83.495</td>\n      <td>4</td>\n    </tr>\n  </tbody>\n</table>\n</div>"
          },
          "metadata": {}
        }
      ],
      "execution_count": 86,
      "metadata": {
        "gather": {
          "logged": 1649064234584
        }
      }
    },
    {
      "cell_type": "code",
      "source": [
        "print(dft.dtypes)"
      ],
      "outputs": [
        {
          "output_type": "stream",
          "name": "stdout",
          "text": "name                 object\nlength                int64\npopularity            int64\nacousticness        float64\ndanceability        float64\nenergy              float64\ninstrumentalness    float64\nliveness            float64\nloudness            float64\nspeechiness         float64\ntempo               float64\ntime_signature        int64\ndtype: object\n"
        }
      ],
      "execution_count": 87,
      "metadata": {
        "jupyter": {
          "source_hidden": false,
          "outputs_hidden": false
        },
        "nteract": {
          "transient": {
            "deleting": false
          }
        },
        "gather": {
          "logged": 1649064234787
        }
      }
    },
    {
      "cell_type": "code",
      "source": [
        "df = dft.drop(columns=['name'])\r\n",
        "cols = df.columns\r\n",
        "print(cols)"
      ],
      "outputs": [
        {
          "output_type": "stream",
          "name": "stdout",
          "text": "Index(['length', 'popularity', 'acousticness', 'danceability', 'energy',\n       'instrumentalness', 'liveness', 'loudness', 'speechiness', 'tempo',\n       'time_signature'],\n      dtype='object')\n"
        }
      ],
      "execution_count": 88,
      "metadata": {
        "jupyter": {
          "source_hidden": false,
          "outputs_hidden": false
        },
        "nteract": {
          "transient": {
            "deleting": false
          }
        },
        "gather": {
          "logged": 1649064234916
        }
      }
    },
    {
      "cell_type": "code",
      "source": [
        "attributes = df.columns\r\n",
        "stats = round(df[attributes].describe(), 3)\r\n",
        "stats.head()"
      ],
      "outputs": [
        {
          "output_type": "execute_result",
          "execution_count": 89,
          "data": {
            "text/plain": "           length  popularity  acousticness  danceability    energy  \\\ncount    4416.000    4416.000      4416.000      4416.000  4416.000   \nmean   220842.441      65.366         0.196         0.647     0.662   \nstd     51567.329      23.755         0.231         0.147     0.177   \nmin     86826.000       0.000         0.000         0.104     0.026   \n25%    190056.000      66.000         0.024         0.551     0.547   \n\n       instrumentalness  liveness  loudness  speechiness     tempo  \\\ncount          4416.000  4416.000  4416.000     4416.000  4416.000   \nmean              0.019     0.179    -6.483        0.101   120.877   \nstd               0.100     0.135     2.724        0.098    28.369   \nmin               0.000     0.021   -30.016        0.023    43.509   \n25%               0.000     0.093    -7.670        0.038    99.000   \n\n       time_signature  \ncount        4416.000  \nmean            3.973  \nstd             0.263  \nmin             1.000  \n25%             4.000  ",
            "text/html": "<div>\n<style scoped>\n    .dataframe tbody tr th:only-of-type {\n        vertical-align: middle;\n    }\n\n    .dataframe tbody tr th {\n        vertical-align: top;\n    }\n\n    .dataframe thead th {\n        text-align: right;\n    }\n</style>\n<table border=\"1\" class=\"dataframe\">\n  <thead>\n    <tr style=\"text-align: right;\">\n      <th></th>\n      <th>length</th>\n      <th>popularity</th>\n      <th>acousticness</th>\n      <th>danceability</th>\n      <th>energy</th>\n      <th>instrumentalness</th>\n      <th>liveness</th>\n      <th>loudness</th>\n      <th>speechiness</th>\n      <th>tempo</th>\n      <th>time_signature</th>\n    </tr>\n  </thead>\n  <tbody>\n    <tr>\n      <th>count</th>\n      <td>4416.000</td>\n      <td>4416.000</td>\n      <td>4416.000</td>\n      <td>4416.000</td>\n      <td>4416.000</td>\n      <td>4416.000</td>\n      <td>4416.000</td>\n      <td>4416.000</td>\n      <td>4416.000</td>\n      <td>4416.000</td>\n      <td>4416.000</td>\n    </tr>\n    <tr>\n      <th>mean</th>\n      <td>220842.441</td>\n      <td>65.366</td>\n      <td>0.196</td>\n      <td>0.647</td>\n      <td>0.662</td>\n      <td>0.019</td>\n      <td>0.179</td>\n      <td>-6.483</td>\n      <td>0.101</td>\n      <td>120.877</td>\n      <td>3.973</td>\n    </tr>\n    <tr>\n      <th>std</th>\n      <td>51567.329</td>\n      <td>23.755</td>\n      <td>0.231</td>\n      <td>0.147</td>\n      <td>0.177</td>\n      <td>0.100</td>\n      <td>0.135</td>\n      <td>2.724</td>\n      <td>0.098</td>\n      <td>28.369</td>\n      <td>0.263</td>\n    </tr>\n    <tr>\n      <th>min</th>\n      <td>86826.000</td>\n      <td>0.000</td>\n      <td>0.000</td>\n      <td>0.104</td>\n      <td>0.026</td>\n      <td>0.000</td>\n      <td>0.021</td>\n      <td>-30.016</td>\n      <td>0.023</td>\n      <td>43.509</td>\n      <td>1.000</td>\n    </tr>\n    <tr>\n      <th>25%</th>\n      <td>190056.000</td>\n      <td>66.000</td>\n      <td>0.024</td>\n      <td>0.551</td>\n      <td>0.547</td>\n      <td>0.000</td>\n      <td>0.093</td>\n      <td>-7.670</td>\n      <td>0.038</td>\n      <td>99.000</td>\n      <td>4.000</td>\n    </tr>\n  </tbody>\n</table>\n</div>"
          },
          "metadata": {}
        }
      ],
      "execution_count": 89,
      "metadata": {
        "jupyter": {
          "source_hidden": false,
          "outputs_hidden": false
        },
        "nteract": {
          "transient": {
            "deleting": false
          }
        },
        "gather": {
          "logged": 1649064235061
        }
      }
    },
    {
      "cell_type": "code",
      "source": [
        "x = df.values\r\n",
        "scaled = MinMaxScaler().fit_transform(x)\r\n",
        "df = pd.DataFrame(scaled)\r\n",
        "df.columns = cols\r\n",
        "df.hist(bins=15, color='steelblue', edgecolor='black', linewidth=1.0,\r\n",
        "           xlabelsize=8, ylabelsize=8, grid=False)\r\n",
        "plt.tight_layout(rect=(0, 0, 1.2, 1.2))"
      ],
      "outputs": [
        {
          "output_type": "stream",
          "name": "stderr",
          "text": "/anaconda/envs/azureml_py36/lib/python3.6/site-packages/pandas/plotting/_matplotlib/tools.py:307: MatplotlibDeprecationWarning: \nThe rowNum attribute was deprecated in Matplotlib 3.2 and will be removed two minor releases later. Use ax.get_subplotspec().rowspan.start instead.\n  layout[ax.rowNum, ax.colNum] = ax.get_visible()\n/anaconda/envs/azureml_py36/lib/python3.6/site-packages/pandas/plotting/_matplotlib/tools.py:307: MatplotlibDeprecationWarning: \nThe colNum attribute was deprecated in Matplotlib 3.2 and will be removed two minor releases later. Use ax.get_subplotspec().colspan.start instead.\n  layout[ax.rowNum, ax.colNum] = ax.get_visible()\n/anaconda/envs/azureml_py36/lib/python3.6/site-packages/pandas/plotting/_matplotlib/tools.py:313: MatplotlibDeprecationWarning: \nThe rowNum attribute was deprecated in Matplotlib 3.2 and will be removed two minor releases later. Use ax.get_subplotspec().rowspan.start instead.\n  if not layout[ax.rowNum + 1, ax.colNum]:\n/anaconda/envs/azureml_py36/lib/python3.6/site-packages/pandas/plotting/_matplotlib/tools.py:313: MatplotlibDeprecationWarning: \nThe colNum attribute was deprecated in Matplotlib 3.2 and will be removed two minor releases later. Use ax.get_subplotspec().colspan.start instead.\n  if not layout[ax.rowNum + 1, ax.colNum]:\n"
        },
        {
          "output_type": "display_data",
          "data": {
            "text/plain": "<Figure size 432x288 with 12 Axes>",
            "image/png": "[encoded data removed]"
          },
          "metadata": {
            "needs_background": "light"
          }
        }
      ],
      "execution_count": 90,
      "metadata": {
        "jupyter": {
          "source_hidden": false,
          "outputs_hidden": false
        },
        "nteract": {
          "transient": {
            "deleting": false
          }
        },
        "gather": {
          "logged": 1649064237312
        }
      }
    },
    {
      "cell_type": "code",
      "source": [
        "db = DBSCAN(eps=0.3, min_samples=20).fit(df)\r\n",
        "labels = db.labels_\r\n",
        "print(set(labels))\r\n",
        "df['labels'] = labels"
      ],
      "outputs": [
        {
          "output_type": "stream",
          "name": "stdout",
          "text": "{0, -1}\n"
        }
      ],
      "execution_count": 91,
      "metadata": {
        "jupyter": {
          "source_hidden": false,
          "outputs_hidden": false
        },
        "nteract": {
          "transient": {
            "deleting": false
          }
        },
        "gather": {
          "logged": 1649064237957
        }
      }
    },
    {
      "cell_type": "code",
      "source": [
        "column = df.columns\r\n",
        "pp = sns.pairplot(df[column], hue=\"labels\", height=2,aspect=2,plot_kws=dict(edgecolor=\"black\", linewidth=0.5))\r\n",
        "fig = pp.fig\r\n",
        "fig.subplots_adjust(top=0.93, wspace=0.3)\r\n",
        "t = fig.suptitle('Song attributes', fontsize=25)"
      ],
      "outputs": [],
      "execution_count": 92,
      "metadata": {
        "jupyter": {
          "source_hidden": false,
          "outputs_hidden": false
        },
        "nteract": {
          "transient": {
            "deleting": false
          }
        },
        "gather": {
          "logged": 1649064218495
        }
      }
    }
  ],
  "metadata": {
    "kernel_info": {
      "name": "python3-azureml"
    },
    "kernelspec": {
      "name": "python3-azureml",
      "language": "python",
      "display_name": "Python 3.6 - AzureML"
    },
    "language_info": {
      "name": "python",
      "version": "3.6.9",
      "mimetype": "text/x-python",
      "codemirror_mode": {
        "name": "ipython",
        "version": 3
      },
      "pygments_lexer": "ipython3",
      "nbconvert_exporter": "python",
      "file_extension": ".py"
    },
    "nteract": {
      "version": "nteract-front-end@1.0.0"
    },
    "microsoft": {
      "host": {
        "AzureML": {
          "notebookHasBeenCompleted": true
        }
      }
    }
  },
  "nbformat": 4,
  "nbformat_minor": 4
}