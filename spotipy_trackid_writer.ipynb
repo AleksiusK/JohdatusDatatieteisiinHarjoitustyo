{
  "cells": [
    {
      "cell_type": "code",
      "source": [
        "import spotipy as spy\n",
        "import pandas as pd\n",
        "import time\n",
        "import csv"
      ],
      "outputs": [],
      "execution_count": 1,
      "metadata": {
        "gather": {
          "logged": 1648887028653
        }
      },
      "id": "fb3e7658-5b71-4a4c-8674-efa5ff247ff0"
    },
    {
      "cell_type": "code",
      "source": [
        "with open('secret.txt') as s:\n",
        "    client_secret = next(s)\n",
        "s.close()\n",
        "client_id = '339e9f02e5254f07a945aef3f9471a31'\n",
        "user = 'zurxor'\n",
        "playlist_uri = 'spotify:playlist:4o8NBsWreC3OnKePUYw0dg'"
      ],
      "outputs": [],
      "execution_count": 2,
      "metadata": {
        "gather": {
          "logged": 1648887028757
        }
      },
      "id": "a018f463-417c-4b83-9142-7dd9d0c1aae2"
    },
    {
      "cell_type": "code",
      "source": [
        "credentials_manager = spy.oauth2.SpotifyClientCredentials(client_id, client_secret)\n",
        "sp = spy.Spotify(client_credentials_manager=credentials_manager)"
      ],
      "outputs": [],
      "execution_count": 3,
      "metadata": {
        "gather": {
          "logged": 1648887028931
        }
      },
      "id": "6453e976-e183-4f66-b807-4d6577554309"
    },
    {
      "cell_type": "code",
      "source": [
        "pl_t = sp.user_playlist_tracks(user, playlist_uri)\n",
        "tmp = pl_t['items']\n",
        "ids = []\n",
        "while pl_t['next']:\n",
        "    pl_t = sp.next(pl_t)\n",
        "    tmp.extend(pl_t['items'])\n",
        "    for s in tmp:\n",
        "        ids.append(s[\"track\"][\"id\"])"
      ],
      "outputs": [],
      "execution_count": 14,
      "metadata": {
        "gather": {
          "logged": 1648887029279
        }
      },
      "id": "1916d995-2737-4411-b42b-f635a869185a"
    },
    {
      "cell_type": "code",
      "source": [
        "i = len(ids)\n",
        "print(i)\n",
        "if len(ids) != len(set(ids)):\n",
        "    ids = list(set(ids))\n",
        "    print(\"Duplicates found, {} rows cleaned.\".format(i-len(ids)))\n",
        "    print(len(ids))\n",
        "else:\n",
        "    print(\"No duplicates\")"
      ],
      "outputs": [
        {
          "output_type": "stream",
          "name": "stdout",
          "text": "4416\nNo duplicates\n"
        }
      ],
      "execution_count": 17,
      "metadata": {
        "gather": {
          "logged": 1648887029386
        }
      },
      "id": "fae17ef7-e9de-4bde-a7ef-9f3a328403de"
    },
    {
      "cell_type": "code",
      "source": [
        "f = open('ids.csv', 'w')\n",
        "writer = csv.writer(f)\n",
        "writer.writerow([\"track id\"])\n",
        "for i in range(len(ids)):\n",
        "    writer.writerow([ids[i]])\n",
        "f.close()"
      ],
      "outputs": [],
      "execution_count": 18,
      "metadata": {
        "gather": {
          "logged": 1648887075123
        }
      },
      "id": "2dc6ac16-e750-4d9f-891a-df7c656688a6"
    },
    {
      "cell_type": "code",
      "source": [
        "f = open('trackdata.csv', 'w')\n",
        "writer = csv.writer(f)\n",
        "writer.writerow([\"name\", \"length\", \"popularity\",'acousticness','danceability','energy','instrumentalness','liveness','loudness', 'speechiness','tempo','time_signature'])\n",
        "for i in range(len(ids)):\n",
        "    track = []\n",
        "    metadata = sp.track(ids[i])\n",
        "    features = sp.audio_features(ids[i])\n",
        "    name = metadata['name']\n",
        "    length = metadata['duration_ms']\n",
        "    popularity = metadata['popularity']\n",
        "    \n",
        "    ac = features[0]['acousticness']\n",
        "    dc = features[0]['danceability']\n",
        "    en = features[0]['energy']\n",
        "    ins = features[0]['instrumentalness']\n",
        "    liv = features[0]['liveness']\n",
        "    lou = features[0]['loudness']\n",
        "    spe = features[0]['speechiness']\n",
        "    tmp = features[0]['tempo']\n",
        "    ts = features[0]['time_signature']\n",
        "    track = [name, length, popularity, ac, dc, en, ins, liv, lou, spe, tmp, ts]\n",
        "    writer.writerow(track)\n",
        "f.close()"
      ],
      "outputs": [],
      "execution_count": 22,
      "metadata": {},
      "id": "e6185eec-b990-4463-8344-df88477f388c"
    },
    {
      "cell_type": "code",
      "source": [],
      "outputs": [],
      "execution_count": null,
      "metadata": {},
      "id": "7b19a260-5e2a-47bb-bbc0-629bdad8e773"
    }
  ],
  "metadata": {
    "kernel_info": {
      "name": "python38-azureml"
    },
    "kernelspec": {
      "display_name": "Python 3.8 - AzureML",
      "language": "python",
      "name": "python38-azureml"
    },
    "language_info": {
      "codemirror_mode": {
        "name": "ipython",
        "version": 3
      },
      "file_extension": ".py",
      "mimetype": "text/x-python",
      "name": "python",
      "nbconvert_exporter": "python",
      "pygments_lexer": "ipython3",
      "version": "3.8.1"
    },
    "nteract": {
      "version": "nteract-front-end@1.0.0"
    },
    "microsoft": {
      "host": {
        "AzureML": {
          "notebookHasBeenCompleted": true
        }
      }
    }
  },
  "nbformat": 4,
  "nbformat_minor": 5
}