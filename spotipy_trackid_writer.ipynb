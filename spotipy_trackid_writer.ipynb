{
 "cells": [
  {
   "cell_type": "code",
   "execution_count": 85,
   "id": "fb3e7658-5b71-4a4c-8674-efa5ff247ff0",
   "metadata": {},
   "outputs": [],
   "source": [
    "import spotipy as spy\n",
    "import pandas as pd\n",
    "import time\n",
    "import csv"
   ]
  },
  {
   "cell_type": "code",
   "execution_count": 86,
   "id": "a018f463-417c-4b83-9142-7dd9d0c1aae2",
   "metadata": {},
   "outputs": [],
   "source": [
    "client_id = '339e9f02e5254f07a945aef3f9471a31'\n",
    "client_secret = '1e6c6781a6e348368b2364cb398836db'\n",
    "user = 'zurxor'\n",
    "playlist_uri = 'spotify:playlist:4o8NBsWreC3OnKePUYw0dg'"
   ]
  },
  {
   "cell_type": "code",
   "execution_count": 87,
   "id": "6453e976-e183-4f66-b807-4d6577554309",
   "metadata": {},
   "outputs": [],
   "source": [
    "credentials_manager = spy.oauth2.SpotifyClientCredentials(client_id, client_secret)\n",
    "sp = spy.Spotify(client_credentials_manager=credentials_manager)"
   ]
  },
  {
   "cell_type": "code",
   "execution_count": 88,
   "id": "fbbb2a97-07a5-45ed-a380-a95a0520d1a6",
   "metadata": {},
   "outputs": [],
   "source": [
    "list = sp.user_playlist(user, playlist_uri)"
   ]
  },
  {
   "cell_type": "code",
   "execution_count": 98,
   "id": "1916d995-2737-4411-b42b-f635a869185a",
   "metadata": {},
   "outputs": [],
   "source": [
    "ids = []\n",
    "for item in list['tracks']['items']:\n",
    "    track = item['track']\n",
    "    ids.extend([track['id']])"
   ]
  },
  {
   "cell_type": "code",
   "execution_count": 95,
   "id": "fae17ef7-e9de-4bde-a7ef-9f3a328403de",
   "metadata": {},
   "outputs": [
    {
     "name": "stdout",
     "output_type": "stream",
     "text": [
      "No duplicates\n"
     ]
    }
   ],
   "source": [
    "if len(list) != len(set(list)):\n",
    "    print(\"Duplicates found\")\n",
    "else:\n",
    "    print(\"No duplicates\")"
   ]
  },
  {
   "cell_type": "code",
   "execution_count": 97,
   "id": "2dc6ac16-e750-4d9f-891a-df7c656688a6",
   "metadata": {},
   "outputs": [],
   "source": [
    "f = open('Users/aleksius.kurkela/JohdatusDatatieteisiinHarjoitustyo/ids.csv', 'w')\n",
    "writer = csv.writer(f)\n",
    "writer.writerow([\"track id\"])\n",
    "for i in range(len(ids)):\n",
    "    writer.writerow([ids[i]])\n",
    "    n = n + 1\n",
    "f.close()"
   ]
  },
  {
   "cell_type": "code",
   "execution_count": 104,
   "id": "e6185eec-b990-4463-8344-df88477f388c",
   "metadata": {},
   "outputs": [],
   "source": [
    "f = open('Users/aleksius.kurkela/JohdatusDatatieteisiinHarjoitustyo/trackdata.csv', 'w')\n",
    "writer = csv.writer(f)\n",
    "writer.writerow([\"name\", \"length\", \"popularity\",'acousticness','danceability','energy','instrumentalness','liveness','loudness', 'speechiness','tempo','time_signature'])\n",
    "for i in range(len(ids)):\n",
    "    track = []\n",
    "    time.sleep(.5)\n",
    "    metadata = sp.track(ids[i])\n",
    "    features = sp.audio_features(ids[i])\n",
    "    name = metadata['name']\n",
    "    length = metadata['duration_ms']\n",
    "    popularity = metadata['popularity']\n",
    "    \n",
    "    ac = features[0]['acousticness']\n",
    "    dc = features[0]['danceability']\n",
    "    en = features[0]['energy']\n",
    "    ins = features[0]['instrumentalness']\n",
    "    liv = features[0]['liveness']\n",
    "    lou = features[0]['loudness']\n",
    "    spe = features[0]['speechiness']\n",
    "    tmp = features[0]['tempo']\n",
    "    ts = features[0]['time_signature']\n",
    "    track = [name, length, popularity, ac, dc, en, ins, liv, lou, spe, tmp, ts]\n",
    "    writer.writerow(track)\n",
    "f.close()"
   ]
  },
  {
   "cell_type": "code",
   "execution_count": null,
   "id": "15de2dfe-9516-4aba-93cb-30f2728d038a",
   "metadata": {},
   "outputs": [],
   "source": []
  },
  {
   "cell_type": "code",
   "execution_count": null,
   "id": "7b19a260-5e2a-47bb-bbc0-629bdad8e773",
   "metadata": {},
   "outputs": [],
   "source": []
  }
 ],
 "metadata": {
  "kernelspec": {
   "display_name": "Python 3.8 - AzureML",
   "language": "python",
   "name": "python38-azureml"
  },
  "language_info": {
   "codemirror_mode": {
    "name": "ipython",
    "version": 3
   },
   "file_extension": ".py",
   "mimetype": "text/x-python",
   "name": "python",
   "nbconvert_exporter": "python",
   "pygments_lexer": "ipython3",
   "version": "3.8.1"
  }
 },
 "nbformat": 4,
 "nbformat_minor": 5
}
