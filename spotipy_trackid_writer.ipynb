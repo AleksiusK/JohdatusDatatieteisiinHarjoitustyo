{
 "cells": [
  {
   "cell_type": "code",
   "execution_count": 4,
   "id": "fb3e7658-5b71-4a4c-8674-efa5ff247ff0",
   "metadata": {
    "gather": {
     "logged": 1649937622421
    }
   },
   "outputs": [],
   "source": [
    "from requests import HTTPError\n",
    "import spotipy as spy\n",
    "import pandas as pd\n",
    "import csv"
   ]
  },
  {
   "cell_type": "code",
   "execution_count": 1,
   "id": "a018f463-417c-4b83-9142-7dd9d0c1aae2",
   "metadata": {
    "gather": {
     "logged": 1649937624270
    }
   },
   "outputs": [],
   "source": [
    "with open('secret.txt') as s:\n",
    "    client_secret = next(s)\n",
    "s.close()\n",
    "client_id = '66b50b394b214bd399d67a70be01a80e'\n",
    "user = 'Willis Orr'\n",
    "playlist_uri = 'spotify:playlist:5S8SJdl1BDc0ugpkEvFsIL'"
   ]
  },
  {
   "cell_type": "code",
   "execution_count": 5,
   "id": "6453e976-e183-4f66-b807-4d6577554309",
   "metadata": {
    "gather": {
     "logged": 1649937626660
    }
   },
   "outputs": [],
   "source": [
    "credentials_manager = spy.oauth2.SpotifyClientCredentials(client_id, client_secret)\n",
    "sp = spy.Spotify(client_credentials_manager=credentials_manager)"
   ]
  },
  {
   "cell_type": "code",
   "execution_count": 6,
   "id": "1916d995-2737-4411-b42b-f635a869185a",
   "metadata": {
    "gather": {
     "logged": 1649938473334
    }
   },
   "outputs": [],
   "source": [
    "pl_t = sp.user_playlist_tracks(user, playlist_uri)\n",
    "tmp = pl_t['items']\n",
    "ids = []\n",
    "while pl_t['next']:\n",
    "    pl_t = sp.next(pl_t)\n",
    "    tmp.extend(pl_t['items'])\n",
    "    for s in tmp:\n",
    "        ids.append(s[\"track\"][\"id\"])"
   ]
  },
  {
   "cell_type": "code",
   "execution_count": null,
   "id": "fae17ef7-e9de-4bde-a7ef-9f3a328403de",
   "metadata": {
    "gather": {
     "logged": 1649868153324
    }
   },
   "outputs": [],
   "source": [
    "i = len(ids)\n",
    "print(\"Amount of rows:\", i)\n",
    "if len(ids) != len(set(ids)):\n",
    "    ids = list(set(ids))\n",
    "    print(\"Duplicates found, {} rows cleaned.\".format(i-len(ids)))\n",
    "    print(\"The remaining rows; \", len(ids))\n",
    "else:\n",
    "    print(\"No duplicates\")"
   ]
  },
  {
   "cell_type": "code",
   "execution_count": null,
   "id": "2dc6ac16-e750-4d9f-891a-df7c656688a6",
   "metadata": {
    "gather": {
     "logged": 1649868153447
    }
   },
   "outputs": [],
   "source": [
    "f = open('ids.csv', 'w')\n",
    "writer = csv.writer(f)\n",
    "writer.writerow([\"track id\"])\n",
    "for i in range(len(ids)):\n",
    "    writer.writerow([ids[i]])\n",
    "f.close()"
   ]
  }
 ],
 "metadata": {
  "kernel_info": {
   "name": "python38-azureml"
  },
  "kernelspec": {
   "display_name": "Python 3 (ipykernel)",
   "language": "python",
   "name": "python3"
  },
  "language_info": {
   "codemirror_mode": {
    "name": "ipython",
    "version": 3
   },
   "file_extension": ".py",
   "mimetype": "text/x-python",
   "name": "python",
   "nbconvert_exporter": "python",
   "pygments_lexer": "ipython3",
   "version": "3.9.6"
  },
  "microsoft": {
   "host": {
    "AzureML": {
     "notebookHasBeenCompleted": true
    }
   }
  },
  "nteract": {
   "version": "nteract-front-end@1.0.0"
  }
 },
 "nbformat": 4,
 "nbformat_minor": 5
}
