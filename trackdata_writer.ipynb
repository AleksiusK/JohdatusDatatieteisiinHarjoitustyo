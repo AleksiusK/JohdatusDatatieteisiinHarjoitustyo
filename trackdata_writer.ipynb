{
 "cells": [
  {
   "cell_type": "markdown",
   "metadata": {
    "gather": {
     "logged": 1650003641904
    }
   },
   "source": [
    "# Track data writer\n",
    "\n",
    "In this file, we will use the ID list generated to get all the data we need for the model training. The process is quite lenghty because of how many API calls we need to make, so we really want to run this file once and then move onwards. The API is also prone to running into errors when some data is not available for a song, so we need to add a workaround for that.\n",
    "\n",
    "The same as before, we will use spotipy to get the data. However, as we now have the data stored in Azure, we can use it (or the local data if it is already downloaded) to get the ID's. This will not work for other people than the author, but the code is still there for conviniency. All the necessary data can be found in the git repo and maybe in Kaggle later on."
   ]
  },
  {
   "cell_type": "code",
   "execution_count": null,
   "metadata": {},
   "outputs": [],
   "source": [
    "## Import all required libraries\n",
    "from requests import HTTPError\n",
    "import spotipy as spy\n",
    "import pandas as pd\n",
    "import csv"
   ]
  },
  {
   "cell_type": "code",
   "execution_count": null,
   "metadata": {},
   "outputs": [],
   "source": [
    "## Import the required Azure modules\n",
    "from azureml.core import Workspace, Dataset"
   ]
  },
  {
   "cell_type": "code",
   "execution_count": 3,
   "metadata": {
    "collapsed": false,
    "gather": {
     "logged": 1650003645092
    },
    "jupyter": {
     "outputs_hidden": false,
     "source_hidden": false
    },
    "nteract": {
     "transient": {
      "deleting": false
     }
    }
   },
   "outputs": [],
   "source": [
    "## Get the secret and initialize necessary variables for the API\n",
    "with open('secret.txt') as s:\n",
    "    client_secret = next(s)\n",
    "s.close()\n",
    "client_id = '66b50b394b214bd399d67a70be01a80e'\n",
    "user = 'Willis Orr'\n",
    "playlist_uri = 'spotify:playlist:5S8SJdl1BDc0ugpkEvFsIL'"
   ]
  },
  {
   "cell_type": "code",
   "execution_count": 3,
   "metadata": {
    "collapsed": false,
    "gather": {
     "logged": 1650003647729
    },
    "jupyter": {
     "outputs_hidden": false,
     "source_hidden": false
    },
    "nteract": {
     "transient": {
      "deleting": false
     }
    }
   },
   "outputs": [],
   "source": [
    "## Set up the credentials manager and API\n",
    "credentials_manager = spy.oauth2.SpotifyClientCredentials(client_id, client_secret)\n",
    "sp = spy.Spotify(client_credentials_manager=credentials_manager)"
   ]
  },
  {
   "cell_type": "code",
   "execution_count": 4,
   "metadata": {
    "collapsed": false,
    "gather": {
     "logged": 1649942408604
    },
    "jupyter": {
     "outputs_hidden": false,
     "source_hidden": false
    },
    "nteract": {
     "transient": {
      "deleting": false
     }
    }
   },
   "outputs": [
    {
     "data": {
      "text/plain": [
       "['/mnt/batch/tasks/shared/LS_root/mounts/clusters/yleiskone/code/Users/aleksius.kurkela/JohdatusDatatieteisiinHarjoitustyo/Datasets/ids.csv']"
      ]
     },
     "execution_count": 4,
     "metadata": {},
     "output_type": "execute_result"
    }
   ],
   "source": [
    "# azureml-core of version 1.0.72 or higher is required\n",
    "## Get the files from Azure datasets\n",
    "subscription_id = '86ce59b5-49c9-46fa-bf68-5345d087b896'\n",
    "resource_group = 'JodaHt'\n",
    "workspace_name = 'DatatieteidenHarjoitustyo'\n",
    "\n",
    "workspace = Workspace(subscription_id, resource_group, workspace_name)\n",
    "\n",
    "dataset = Dataset.get_by_name(workspace, name=\"Song ID's\")\n",
    "dataset.download(target_path='Datasets', overwrite=True)"
   ]
  },
  {
   "cell_type": "code",
   "execution_count": 4,
   "metadata": {
    "collapsed": false,
    "gather": {
     "logged": 1650003649765
    },
    "jupyter": {
     "outputs_hidden": false,
     "source_hidden": false
    },
    "nteract": {
     "transient": {
      "deleting": false
     }
    }
   },
   "outputs": [
    {
     "name": "stdout",
     "output_type": "stream",
     "text": [
      "[['1DrAlSTzo3iwiEZjkZtOip'], ['6maXBs9zUY48m1UNHgTeRC'], ['4sjLcE0GQ6urc4iUXsUPe9'], ['58E1XVmZTODC67YNjneuXM'], ['6W761RLieramPCDV9hijAF'], ['2H4zwjbv0D0ggDhf0E8j8j'], ['27QvYgBk0CHOVHthWnkuWt'], ['07NxDD1iKCHbAldceD7QLP'], ['3iKa5oAYercQOTrOBux76O'], ['6qnM0XXPZOINWA778uNqQ9'], ['3kM1Rc8bQDNpAtXCiAhGV5'], ['1oWSkX6hHx8ea2Wr0SE39g'], ['3WSbTOsuBSKUeMa3Pddu7o'], ['2wVDWtLKXunswWecARNILj'], ['5tMdNsKOlNr0iUFtSE1BwG'], ['18GiV1BaXzPVYpp9rmOg0E'], ['0kdOSSWcYye98wID8RIhdl'], ['09YA1Ma4NhmKCu9VHdQMcU'], ['41xY0XOmX8DF8GKoPi4oF3'], ['77qLIZDZx0DAjrbolGgTwk']]\n"
     ]
    }
   ],
   "source": [
    "## Read the ID dataset\n",
    "with open(\"Datasets/ids.csv\", \"r\") as x:\n",
    "    read = csv.reader(x)\n",
    "    ids = list(read)\n",
    "del ids[0]\n",
    "x.close()"
   ]
  },
  {
   "cell_type": "code",
   "execution_count": null,
   "metadata": {
    "collapsed": false,
    "jupyter": {
     "outputs_hidden": false,
     "source_hidden": false
    },
    "nteract": {
     "transient": {
      "deleting": false
     }
    }
   },
   "outputs": [],
   "source": [
    "## And finally, start making GET requests to the API\n",
    "## One poor part of Spotipy is that it requires each request to be made separately, so there is no way to just get all the data at once for the ID's provided.\n",
    "## This means that we need to make almost 10,000 GET-requests, which with an error rate of 1% would mean we lose 100 songs. The error rate is provided in the end of the output.\n",
    "## We also print the variable i each 100 ids, so that even in the midst of all the error messages you can see roughly how many rows you have already added.\n",
    "\n",
    "## Generally, if you run this, it will take about 20 to 40 minutes to complete, depending ofcourse on the hardware.\n",
    "base = len(ids)\n",
    "f = open('trackdata.csv', 'w')\n",
    "writer = csv.writer(f)\n",
    "writer.writerow([\"name\", \"length\", \"popularity\",'acousticness','danceability','energy','instrumentalness','liveness','loudness', 'speechiness','tempo','time_signature'])\n",
    "errors = 0\n",
    "for i in range(len(ids)):\n",
    "    id = ids[i][0]\n",
    "    if ((i % 100 == 0) and (i != 0)):\n",
    "        print(i)\n",
    "    track = []\n",
    "    try:\n",
    "        features = sp.audio_features(id)\n",
    "        data = sp.track(id)\n",
    "\n",
    "        name = data[\"name\"]\n",
    "        len_ = data[\"duration_ms\"]\n",
    "        pop = data[\"popularity\"]\n",
    "        \n",
    "        ac = features[0]['acousticness']\n",
    "        dc = features[0]['danceability']\n",
    "        en = features[0]['energy']\n",
    "        ins = features[0]['instrumentalness']\n",
    "        liv = features[0]['liveness']\n",
    "        lou = features[0]['loudness']\n",
    "        spe = features[0]['speechiness']\n",
    "        tmp = features[0]['tempo']\n",
    "        track = [name, len_, pop, ac, dc, en, ins, liv, lou, spe, tmp]\n",
    "        writer.writerow(track)\n",
    "    except HTTPError:\n",
    "        print(HTTPError)\n",
    "        errors = errors + 1\n",
    "    except spy.SpotifyException:\n",
    "        print(spy.SpotifyException)\n",
    "        errors = errors + 1\n",
    "    except TypeError:\n",
    "        print(TypeError)\n",
    "        errors = errors + 1\n",
    "f.close()\n",
    "print(\"Error rate: {}\".format(errors / base))"
   ]
  },
  {
   "cell_type": "code",
   "execution_count": null,
   "metadata": {},
   "outputs": [],
   "source": []
  }
 ],
 "metadata": {
  "kernel_info": {
   "name": "python38-azureml"
  },
  "kernelspec": {
   "display_name": "Python 3 (ipykernel)",
   "language": "python",
   "name": "python3"
  },
  "language_info": {
   "codemirror_mode": {
    "name": "ipython",
    "version": 3
   },
   "file_extension": ".py",
   "mimetype": "text/x-python",
   "name": "python",
   "nbconvert_exporter": "python",
   "pygments_lexer": "ipython3",
   "version": "3.9.6"
  },
  "microsoft": {
   "host": {
    "AzureML": {
     "notebookHasBeenCompleted": true
    }
   }
  },
  "nteract": {
   "version": "nteract-front-end@1.0.0"
  }
 },
 "nbformat": 4,
 "nbformat_minor": 4
}
